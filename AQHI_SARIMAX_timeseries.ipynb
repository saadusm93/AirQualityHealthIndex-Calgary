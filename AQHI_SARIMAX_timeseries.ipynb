{
 "cells": [
  {
   "cell_type": "code",
   "execution_count": 1,
   "id": "18e5e2e9-bf8f-4693-bf5f-73715dd94d04",
   "metadata": {},
   "outputs": [],
   "source": [
    "import numpy as np\n",
    "import pandas as pd\n",
    "import matplotlib.pyplot as plt\n",
    "import seaborn as sns"
   ]
  },
  {
   "cell_type": "code",
   "execution_count": 2,
   "id": "bc31db2e-db06-43ba-be51-1475e50014d3",
   "metadata": {},
   "outputs": [],
   "source": [
    "calg = pd.read_csv(r'E:\\Projects\\Data\\Air quality\\Calgary Air Quality.csv')"
   ]
  },
  {
   "cell_type": "code",
   "execution_count": 3,
   "id": "ce47f18a-2add-4670-b62d-78693fa26c67",
   "metadata": {},
   "outputs": [
    {
     "data": {
      "text/html": [
       "<div>\n",
       "<style scoped>\n",
       "    .dataframe tbody tr th:only-of-type {\n",
       "        vertical-align: middle;\n",
       "    }\n",
       "\n",
       "    .dataframe tbody tr th {\n",
       "        vertical-align: top;\n",
       "    }\n",
       "\n",
       "    .dataframe thead th {\n",
       "        text-align: right;\n",
       "    }\n",
       "</style>\n",
       "<table border=\"1\" class=\"dataframe\">\n",
       "  <thead>\n",
       "    <tr style=\"text-align: right;\">\n",
       "      <th></th>\n",
       "      <th>Station Name</th>\n",
       "      <th>Date</th>\n",
       "      <th>Method</th>\n",
       "      <th>Parameter</th>\n",
       "      <th>Average Daily Value</th>\n",
       "      <th>Units</th>\n",
       "      <th>Location</th>\n",
       "      <th>Count</th>\n",
       "      <th>ID</th>\n",
       "    </tr>\n",
       "  </thead>\n",
       "  <tbody>\n",
       "    <tr>\n",
       "      <th>0</th>\n",
       "      <td>Calgary Southeast</td>\n",
       "      <td>2019/08/02</td>\n",
       "      <td>Calibrated with Methane/Propane</td>\n",
       "      <td>Methane</td>\n",
       "      <td>1.9609</td>\n",
       "      <td>ppm</td>\n",
       "      <td>(50.955122, -113.969742)</td>\n",
       "      <td>1</td>\n",
       "      <td>2019-08-02-Calgary Southeast-Methane-1.9609</td>\n",
       "    </tr>\n",
       "    <tr>\n",
       "      <th>1</th>\n",
       "      <td>Calgary Southeast</td>\n",
       "      <td>2018/10/01</td>\n",
       "      <td>Instrumental</td>\n",
       "      <td>Methane</td>\n",
       "      <td>2.0783</td>\n",
       "      <td>ppm</td>\n",
       "      <td>(50.955122, -113.969742)</td>\n",
       "      <td>1</td>\n",
       "      <td>2018-10-01-Calgary Southeast-Methane-2.0783</td>\n",
       "    </tr>\n",
       "    <tr>\n",
       "      <th>2</th>\n",
       "      <td>Calgary Central-Inglewood</td>\n",
       "      <td>2019/09/18</td>\n",
       "      <td>Instrumental</td>\n",
       "      <td>Nitrogen Dioxide</td>\n",
       "      <td>0.0000</td>\n",
       "      <td>mg/l</td>\n",
       "      <td>(51.029944, -114.008111)</td>\n",
       "      <td>1</td>\n",
       "      <td>2019-09-18-Calgary Central-Inglewood-Nitrogen ...</td>\n",
       "    </tr>\n",
       "    <tr>\n",
       "      <th>3</th>\n",
       "      <td>Calgary Central-Inglewood</td>\n",
       "      <td>2019/09/18</td>\n",
       "      <td>Instrumental</td>\n",
       "      <td>Non-methane Hydrocarbons</td>\n",
       "      <td>0.0000</td>\n",
       "      <td>ppm</td>\n",
       "      <td>(51.029944, -114.008111)</td>\n",
       "      <td>1</td>\n",
       "      <td>2019-09-18-Calgary Central-Inglewood-Non-metha...</td>\n",
       "    </tr>\n",
       "    <tr>\n",
       "      <th>4</th>\n",
       "      <td>Calgary Southeast</td>\n",
       "      <td>2019/09/12</td>\n",
       "      <td>Instrumental</td>\n",
       "      <td>Total Oxides Of Nitrogen</td>\n",
       "      <td>0.0000</td>\n",
       "      <td>ppm</td>\n",
       "      <td>(50.955122, -113.969742)</td>\n",
       "      <td>1</td>\n",
       "      <td>2019-09-12-Calgary Southeast-Total Oxides Of N...</td>\n",
       "    </tr>\n",
       "    <tr>\n",
       "      <th>...</th>\n",
       "      <td>...</td>\n",
       "      <td>...</td>\n",
       "      <td>...</td>\n",
       "      <td>...</td>\n",
       "      <td>...</td>\n",
       "      <td>...</td>\n",
       "      <td>...</td>\n",
       "      <td>...</td>\n",
       "      <td>...</td>\n",
       "    </tr>\n",
       "    <tr>\n",
       "      <th>422923</th>\n",
       "      <td>Calgary East</td>\n",
       "      <td>1980/09/05</td>\n",
       "      <td>Instrumental</td>\n",
       "      <td>Nitrogen Dioxide</td>\n",
       "      <td>0.0154</td>\n",
       "      <td>ppm</td>\n",
       "      <td>(51.009444, -114.025278)</td>\n",
       "      <td>1</td>\n",
       "      <td>1980-09-05-Calgary East-Nitrogen Dioxide-0.0154</td>\n",
       "    </tr>\n",
       "    <tr>\n",
       "      <th>422924</th>\n",
       "      <td>Calgary East</td>\n",
       "      <td>1982/01/09</td>\n",
       "      <td>Instrumental</td>\n",
       "      <td>Nitric Oxide</td>\n",
       "      <td>0.0037</td>\n",
       "      <td>ppm</td>\n",
       "      <td>(51.009444, -114.025278)</td>\n",
       "      <td>1</td>\n",
       "      <td>1982-01-09-Calgary East-Nitric Oxide-0.0037</td>\n",
       "    </tr>\n",
       "    <tr>\n",
       "      <th>422925</th>\n",
       "      <td>Calgary East</td>\n",
       "      <td>1980/07/08</td>\n",
       "      <td>Instrumental</td>\n",
       "      <td>Carbon Monoxide</td>\n",
       "      <td>1.0833</td>\n",
       "      <td>ppm</td>\n",
       "      <td>(51.009444, -114.025278)</td>\n",
       "      <td>1</td>\n",
       "      <td>1980-07-08-Calgary East-Carbon Monoxide-1.0833</td>\n",
       "    </tr>\n",
       "    <tr>\n",
       "      <th>422926</th>\n",
       "      <td>Calgary East</td>\n",
       "      <td>1980/04/04</td>\n",
       "      <td>Instrumental</td>\n",
       "      <td>Wind Speed</td>\n",
       "      <td>18.3000</td>\n",
       "      <td>km/hr 10m</td>\n",
       "      <td>(51.009444, -114.025278)</td>\n",
       "      <td>1</td>\n",
       "      <td>1980-04-04-Calgary East-Wind Speed-18.3</td>\n",
       "    </tr>\n",
       "    <tr>\n",
       "      <th>422927</th>\n",
       "      <td>Calgary East</td>\n",
       "      <td>1980/08/07</td>\n",
       "      <td>Instrumental</td>\n",
       "      <td>Carbon Monoxide</td>\n",
       "      <td>0.6042</td>\n",
       "      <td>ppm</td>\n",
       "      <td>(51.009444, -114.025278)</td>\n",
       "      <td>1</td>\n",
       "      <td>1980-08-07-Calgary East-Carbon Monoxide-0.6042</td>\n",
       "    </tr>\n",
       "  </tbody>\n",
       "</table>\n",
       "<p>422928 rows × 9 columns</p>\n",
       "</div>"
      ],
      "text/plain": [
       "                     Station Name        Date  \\\n",
       "0               Calgary Southeast  2019/08/02   \n",
       "1               Calgary Southeast  2018/10/01   \n",
       "2       Calgary Central-Inglewood  2019/09/18   \n",
       "3       Calgary Central-Inglewood  2019/09/18   \n",
       "4               Calgary Southeast  2019/09/12   \n",
       "...                           ...         ...   \n",
       "422923               Calgary East  1980/09/05   \n",
       "422924               Calgary East  1982/01/09   \n",
       "422925               Calgary East  1980/07/08   \n",
       "422926               Calgary East  1980/04/04   \n",
       "422927               Calgary East  1980/08/07   \n",
       "\n",
       "                                 Method                 Parameter  \\\n",
       "0       Calibrated with Methane/Propane                   Methane   \n",
       "1                          Instrumental                   Methane   \n",
       "2                          Instrumental          Nitrogen Dioxide   \n",
       "3                          Instrumental  Non-methane Hydrocarbons   \n",
       "4                          Instrumental  Total Oxides Of Nitrogen   \n",
       "...                                 ...                       ...   \n",
       "422923                     Instrumental          Nitrogen Dioxide   \n",
       "422924                     Instrumental              Nitric Oxide   \n",
       "422925                     Instrumental           Carbon Monoxide   \n",
       "422926                     Instrumental                Wind Speed   \n",
       "422927                     Instrumental           Carbon Monoxide   \n",
       "\n",
       "        Average Daily Value      Units                  Location  Count  \\\n",
       "0                    1.9609        ppm  (50.955122, -113.969742)      1   \n",
       "1                    2.0783        ppm  (50.955122, -113.969742)      1   \n",
       "2                    0.0000       mg/l  (51.029944, -114.008111)      1   \n",
       "3                    0.0000        ppm  (51.029944, -114.008111)      1   \n",
       "4                    0.0000        ppm  (50.955122, -113.969742)      1   \n",
       "...                     ...        ...                       ...    ...   \n",
       "422923               0.0154        ppm  (51.009444, -114.025278)      1   \n",
       "422924               0.0037        ppm  (51.009444, -114.025278)      1   \n",
       "422925               1.0833        ppm  (51.009444, -114.025278)      1   \n",
       "422926              18.3000  km/hr 10m  (51.009444, -114.025278)      1   \n",
       "422927               0.6042        ppm  (51.009444, -114.025278)      1   \n",
       "\n",
       "                                                       ID  \n",
       "0             2019-08-02-Calgary Southeast-Methane-1.9609  \n",
       "1             2018-10-01-Calgary Southeast-Methane-2.0783  \n",
       "2       2019-09-18-Calgary Central-Inglewood-Nitrogen ...  \n",
       "3       2019-09-18-Calgary Central-Inglewood-Non-metha...  \n",
       "4       2019-09-12-Calgary Southeast-Total Oxides Of N...  \n",
       "...                                                   ...  \n",
       "422923    1980-09-05-Calgary East-Nitrogen Dioxide-0.0154  \n",
       "422924        1982-01-09-Calgary East-Nitric Oxide-0.0037  \n",
       "422925     1980-07-08-Calgary East-Carbon Monoxide-1.0833  \n",
       "422926            1980-04-04-Calgary East-Wind Speed-18.3  \n",
       "422927     1980-08-07-Calgary East-Carbon Monoxide-0.6042  \n",
       "\n",
       "[422928 rows x 9 columns]"
      ]
     },
     "execution_count": 3,
     "metadata": {},
     "output_type": "execute_result"
    }
   ],
   "source": [
    "calg"
   ]
  },
  {
   "cell_type": "markdown",
   "id": "7ef5c068-d92e-4386-a319-7bb424fd390e",
   "metadata": {},
   "source": [
    "#### Drop unnecessary columns (Method, Count)"
   ]
  },
  {
   "cell_type": "code",
   "execution_count": 5,
   "id": "c0482fe5-7e24-4ef1-94f8-0b76265853a9",
   "metadata": {},
   "outputs": [],
   "source": [
    "calg.drop('Method',axis = 1, inplace = True)"
   ]
  },
  {
   "cell_type": "code",
   "execution_count": 6,
   "id": "9a3b31ec-34a1-4a12-83d2-eaa10b03461d",
   "metadata": {},
   "outputs": [],
   "source": [
    "calg.drop('Count',axis = 1, inplace = True)"
   ]
  },
  {
   "cell_type": "code",
   "execution_count": 7,
   "id": "3bece3ca-68e8-4020-bc0f-400c29370440",
   "metadata": {},
   "outputs": [],
   "source": [
    "calg.drop('ID',axis = 1, inplace = True)"
   ]
  },
  {
   "cell_type": "markdown",
   "id": "3a2d188a-e359-444f-ae12-acdac132363c",
   "metadata": {},
   "source": [
    "#### Clean Location column of brackets"
   ]
  },
  {
   "cell_type": "code",
   "execution_count": 9,
   "id": "80b9a3e2-b934-49ff-8d57-6b404ba62e16",
   "metadata": {},
   "outputs": [],
   "source": [
    "calg['Location'] = calg['Location'].str.replace('(','')"
   ]
  },
  {
   "cell_type": "code",
   "execution_count": 10,
   "id": "b1b63b09-aaa3-4cca-b1af-452ea13853cd",
   "metadata": {},
   "outputs": [],
   "source": [
    "calg['Location'] = calg['Location'].str.replace(')','')"
   ]
  },
  {
   "cell_type": "markdown",
   "id": "6f5444ce-0673-4c93-b180-a965d0ceab85",
   "metadata": {},
   "source": [
    "#### Change datatypes to relevant ones"
   ]
  },
  {
   "cell_type": "code",
   "execution_count": 12,
   "id": "67a47ea5-758e-4e84-aee0-a663b5d39684",
   "metadata": {},
   "outputs": [
    {
     "name": "stdout",
     "output_type": "stream",
     "text": [
      "<class 'pandas.core.frame.DataFrame'>\n",
      "RangeIndex: 422928 entries, 0 to 422927\n",
      "Data columns (total 6 columns):\n",
      " #   Column               Non-Null Count   Dtype  \n",
      "---  ------               --------------   -----  \n",
      " 0   Station Name         422928 non-null  object \n",
      " 1   Date                 422928 non-null  object \n",
      " 2   Parameter            422928 non-null  object \n",
      " 3   Average Daily Value  422928 non-null  float64\n",
      " 4   Units                404761 non-null  object \n",
      " 5   Location             422928 non-null  object \n",
      "dtypes: float64(1), object(5)\n",
      "memory usage: 19.4+ MB\n"
     ]
    }
   ],
   "source": [
    "calg.info()"
   ]
  },
  {
   "cell_type": "code",
   "execution_count": 13,
   "id": "3eafa289-caf1-486a-9081-dc4b65177b0a",
   "metadata": {},
   "outputs": [],
   "source": [
    "# Changing date to datetime format\n",
    "calg['Date'] = pd.to_datetime(calg['Date'])"
   ]
  },
  {
   "cell_type": "code",
   "execution_count": 14,
   "id": "b9ff4762-e21c-4c25-9497-f2b10e1f9f81",
   "metadata": {},
   "outputs": [],
   "source": [
    "calg['Year'] = pd.DatetimeIndex(calg['Date']).year"
   ]
  },
  {
   "cell_type": "code",
   "execution_count": 15,
   "id": "9dfa550b-6761-4e09-8fa1-7c2d7d042c65",
   "metadata": {},
   "outputs": [],
   "source": [
    "calg['Month'] = calg['Date'].dt.month_name(locale = 'English')"
   ]
  },
  {
   "cell_type": "code",
   "execution_count": 16,
   "id": "8fad4c7a-23b0-47ce-9cf9-9241e4eabd85",
   "metadata": {},
   "outputs": [],
   "source": [
    "calg['Day'] = calg['Date'].dt.day_name(locale = 'English')"
   ]
  },
  {
   "cell_type": "code",
   "execution_count": 17,
   "id": "7a0f4cfd-3579-4f57-b68a-56ce505f7c6b",
   "metadata": {},
   "outputs": [],
   "source": [
    "calg['Average Daily Value'] = calg['Average Daily Value'].round(2)"
   ]
  },
  {
   "cell_type": "code",
   "execution_count": 18,
   "id": "828a83c3-060f-479e-a96d-8b1a5ad9af78",
   "metadata": {},
   "outputs": [],
   "source": [
    "calg['Day of Month'] = pd.DatetimeIndex(calg['Date']).day"
   ]
  },
  {
   "cell_type": "code",
   "execution_count": 19,
   "id": "61120bf1-b67e-4af3-943c-8d6857b5dad6",
   "metadata": {},
   "outputs": [
    {
     "data": {
      "text/plain": [
       "array(['Calgary Southeast', 'Calgary Central-Inglewood',\n",
       "       'Calgary Northwest', 'Calgary East', 'Calgary Central',\n",
       "       'Calgary Central 2'], dtype=object)"
      ]
     },
     "execution_count": 19,
     "metadata": {},
     "output_type": "execute_result"
    }
   ],
   "source": [
    "calg['Station Name'].unique()"
   ]
  },
  {
   "cell_type": "code",
   "execution_count": 20,
   "id": "1e0925b6-3237-49fb-8e8a-ae3d8ad36db8",
   "metadata": {},
   "outputs": [],
   "source": [
    "# Sorting values according to Station Name, Date and then Parameter.\n",
    "calg.sort_values(['Station Name','Date','Parameter'], inplace = True, ascending = [False,True,True])"
   ]
  },
  {
   "cell_type": "code",
   "execution_count": 21,
   "id": "c71a035e-44b2-49de-bd32-0924386fca55",
   "metadata": {},
   "outputs": [],
   "source": [
    "calg.reset_index(inplace = True, drop = True)"
   ]
  },
  {
   "cell_type": "code",
   "execution_count": 22,
   "id": "02dd3387-096c-4033-b508-887c90a23f08",
   "metadata": {},
   "outputs": [],
   "source": [
    "calg.loc[calg['Parameter'] == 'Air Quality Index', 'Units'] = 'index'"
   ]
  },
  {
   "cell_type": "code",
   "execution_count": 23,
   "id": "01d711eb-4956-449d-993c-f5fcb30ea9b1",
   "metadata": {},
   "outputs": [
    {
     "data": {
      "text/html": [
       "<div>\n",
       "<style scoped>\n",
       "    .dataframe tbody tr th:only-of-type {\n",
       "        vertical-align: middle;\n",
       "    }\n",
       "\n",
       "    .dataframe tbody tr th {\n",
       "        vertical-align: top;\n",
       "    }\n",
       "\n",
       "    .dataframe thead th {\n",
       "        text-align: right;\n",
       "    }\n",
       "</style>\n",
       "<table border=\"1\" class=\"dataframe\">\n",
       "  <thead>\n",
       "    <tr style=\"text-align: right;\">\n",
       "      <th></th>\n",
       "      <th>Station Name</th>\n",
       "      <th>Date</th>\n",
       "      <th>Parameter</th>\n",
       "      <th>Average Daily Value</th>\n",
       "      <th>Units</th>\n",
       "      <th>Location</th>\n",
       "      <th>Year</th>\n",
       "      <th>Month</th>\n",
       "      <th>Day</th>\n",
       "      <th>Day of Month</th>\n",
       "    </tr>\n",
       "  </thead>\n",
       "  <tbody>\n",
       "    <tr>\n",
       "      <th>0</th>\n",
       "      <td>Calgary Southeast</td>\n",
       "      <td>2014-04-01</td>\n",
       "      <td>Air Quality Index</td>\n",
       "      <td>0.00</td>\n",
       "      <td>index</td>\n",
       "      <td>50.955122, -113.969742</td>\n",
       "      <td>2014</td>\n",
       "      <td>April</td>\n",
       "      <td>Tuesday</td>\n",
       "      <td>1</td>\n",
       "    </tr>\n",
       "    <tr>\n",
       "      <th>1</th>\n",
       "      <td>Calgary Southeast</td>\n",
       "      <td>2014-04-02</td>\n",
       "      <td>Air Quality Index</td>\n",
       "      <td>0.00</td>\n",
       "      <td>index</td>\n",
       "      <td>50.955122, -113.969742</td>\n",
       "      <td>2014</td>\n",
       "      <td>April</td>\n",
       "      <td>Wednesday</td>\n",
       "      <td>2</td>\n",
       "    </tr>\n",
       "    <tr>\n",
       "      <th>2</th>\n",
       "      <td>Calgary Southeast</td>\n",
       "      <td>2014-04-03</td>\n",
       "      <td>Air Quality Index</td>\n",
       "      <td>0.00</td>\n",
       "      <td>index</td>\n",
       "      <td>50.955122, -113.969742</td>\n",
       "      <td>2014</td>\n",
       "      <td>April</td>\n",
       "      <td>Thursday</td>\n",
       "      <td>3</td>\n",
       "    </tr>\n",
       "    <tr>\n",
       "      <th>3</th>\n",
       "      <td>Calgary Southeast</td>\n",
       "      <td>2014-04-04</td>\n",
       "      <td>Air Quality Index</td>\n",
       "      <td>0.00</td>\n",
       "      <td>index</td>\n",
       "      <td>50.955122, -113.969742</td>\n",
       "      <td>2014</td>\n",
       "      <td>April</td>\n",
       "      <td>Friday</td>\n",
       "      <td>4</td>\n",
       "    </tr>\n",
       "    <tr>\n",
       "      <th>4</th>\n",
       "      <td>Calgary Southeast</td>\n",
       "      <td>2014-04-05</td>\n",
       "      <td>Air Quality Index</td>\n",
       "      <td>0.00</td>\n",
       "      <td>index</td>\n",
       "      <td>50.955122, -113.969742</td>\n",
       "      <td>2014</td>\n",
       "      <td>April</td>\n",
       "      <td>Saturday</td>\n",
       "      <td>5</td>\n",
       "    </tr>\n",
       "    <tr>\n",
       "      <th>...</th>\n",
       "      <td>...</td>\n",
       "      <td>...</td>\n",
       "      <td>...</td>\n",
       "      <td>...</td>\n",
       "      <td>...</td>\n",
       "      <td>...</td>\n",
       "      <td>...</td>\n",
       "      <td>...</td>\n",
       "      <td>...</td>\n",
       "      <td>...</td>\n",
       "    </tr>\n",
       "    <tr>\n",
       "      <th>422880</th>\n",
       "      <td>Calgary Central</td>\n",
       "      <td>2008-02-09</td>\n",
       "      <td>Air Quality Index</td>\n",
       "      <td>8.11</td>\n",
       "      <td>index</td>\n",
       "      <td>51.0471506, -114.0731477</td>\n",
       "      <td>2008</td>\n",
       "      <td>February</td>\n",
       "      <td>Saturday</td>\n",
       "      <td>9</td>\n",
       "    </tr>\n",
       "    <tr>\n",
       "      <th>422889</th>\n",
       "      <td>Calgary Central</td>\n",
       "      <td>2008-02-10</td>\n",
       "      <td>Air Quality Index</td>\n",
       "      <td>10.00</td>\n",
       "      <td>index</td>\n",
       "      <td>51.0471506, -114.0731477</td>\n",
       "      <td>2008</td>\n",
       "      <td>February</td>\n",
       "      <td>Sunday</td>\n",
       "      <td>10</td>\n",
       "    </tr>\n",
       "    <tr>\n",
       "      <th>422898</th>\n",
       "      <td>Calgary Central</td>\n",
       "      <td>2008-02-11</td>\n",
       "      <td>Air Quality Index</td>\n",
       "      <td>11.82</td>\n",
       "      <td>index</td>\n",
       "      <td>51.0471506, -114.0731477</td>\n",
       "      <td>2008</td>\n",
       "      <td>February</td>\n",
       "      <td>Monday</td>\n",
       "      <td>11</td>\n",
       "    </tr>\n",
       "    <tr>\n",
       "      <th>422906</th>\n",
       "      <td>Calgary Central</td>\n",
       "      <td>2008-02-12</td>\n",
       "      <td>Air Quality Index</td>\n",
       "      <td>11.27</td>\n",
       "      <td>index</td>\n",
       "      <td>51.0471506, -114.0731477</td>\n",
       "      <td>2008</td>\n",
       "      <td>February</td>\n",
       "      <td>Tuesday</td>\n",
       "      <td>12</td>\n",
       "    </tr>\n",
       "    <tr>\n",
       "      <th>422917</th>\n",
       "      <td>Calgary Central</td>\n",
       "      <td>2008-02-13</td>\n",
       "      <td>Air Quality Index</td>\n",
       "      <td>11.66</td>\n",
       "      <td>index</td>\n",
       "      <td>51.0471506, -114.0731477</td>\n",
       "      <td>2008</td>\n",
       "      <td>February</td>\n",
       "      <td>Wednesday</td>\n",
       "      <td>13</td>\n",
       "    </tr>\n",
       "  </tbody>\n",
       "</table>\n",
       "<p>18167 rows × 10 columns</p>\n",
       "</div>"
      ],
      "text/plain": [
       "             Station Name       Date          Parameter  Average Daily Value  \\\n",
       "0       Calgary Southeast 2014-04-01  Air Quality Index                 0.00   \n",
       "1       Calgary Southeast 2014-04-02  Air Quality Index                 0.00   \n",
       "2       Calgary Southeast 2014-04-03  Air Quality Index                 0.00   \n",
       "3       Calgary Southeast 2014-04-04  Air Quality Index                 0.00   \n",
       "4       Calgary Southeast 2014-04-05  Air Quality Index                 0.00   \n",
       "...                   ...        ...                ...                  ...   \n",
       "422880    Calgary Central 2008-02-09  Air Quality Index                 8.11   \n",
       "422889    Calgary Central 2008-02-10  Air Quality Index                10.00   \n",
       "422898    Calgary Central 2008-02-11  Air Quality Index                11.82   \n",
       "422906    Calgary Central 2008-02-12  Air Quality Index                11.27   \n",
       "422917    Calgary Central 2008-02-13  Air Quality Index                11.66   \n",
       "\n",
       "        Units                  Location  Year     Month        Day  \\\n",
       "0       index    50.955122, -113.969742  2014     April    Tuesday   \n",
       "1       index    50.955122, -113.969742  2014     April  Wednesday   \n",
       "2       index    50.955122, -113.969742  2014     April   Thursday   \n",
       "3       index    50.955122, -113.969742  2014     April     Friday   \n",
       "4       index    50.955122, -113.969742  2014     April   Saturday   \n",
       "...       ...                       ...   ...       ...        ...   \n",
       "422880  index  51.0471506, -114.0731477  2008  February   Saturday   \n",
       "422889  index  51.0471506, -114.0731477  2008  February     Sunday   \n",
       "422898  index  51.0471506, -114.0731477  2008  February     Monday   \n",
       "422906  index  51.0471506, -114.0731477  2008  February    Tuesday   \n",
       "422917  index  51.0471506, -114.0731477  2008  February  Wednesday   \n",
       "\n",
       "        Day of Month  \n",
       "0                  1  \n",
       "1                  2  \n",
       "2                  3  \n",
       "3                  4  \n",
       "4                  5  \n",
       "...              ...  \n",
       "422880             9  \n",
       "422889            10  \n",
       "422898            11  \n",
       "422906            12  \n",
       "422917            13  \n",
       "\n",
       "[18167 rows x 10 columns]"
      ]
     },
     "execution_count": 23,
     "metadata": {},
     "output_type": "execute_result"
    }
   ],
   "source": [
    "calg[calg['Parameter'] == 'Air Quality Index']"
   ]
  },
  {
   "cell_type": "markdown",
   "id": "1909e537-7d45-4a2e-a760-8a60f091ee8d",
   "metadata": {},
   "source": [
    "### Reading in data from 2021 to 2025. Data from 2019 Sept to 2020 Sept is missing. (COVID?)"
   ]
  },
  {
   "cell_type": "code",
   "execution_count": 25,
   "id": "07516f25-5866-44f3-aa06-f9ecb8a6ee77",
   "metadata": {},
   "outputs": [],
   "source": [
    "calg21 = pd.read_csv(r'E:\\Projects\\Data\\Air quality\\Calgary Air Quality 2021 - 2025.csv')"
   ]
  },
  {
   "cell_type": "markdown",
   "id": "b9bff413-9a3d-47bf-a452-41a53f7de704",
   "metadata": {},
   "source": [
    "### There were a lot of feature name changes and value changes in the latest dataset. Which meant we had to preprocess this dataset quite a bit."
   ]
  },
  {
   "cell_type": "code",
   "execution_count": 27,
   "id": "6d9e9cf0-4236-41df-9ad2-c5f722291334",
   "metadata": {},
   "outputs": [
    {
     "data": {
      "text/plain": [
       "array(['Outdoor Temperature', 'Wind Speed', 'Sulphur Dioxide', 'Methane',\n",
       "       'Carbon Monoxide', 'Total Hydrocarbons', 'Ozone', 'Wind Direction',\n",
       "       'Relative Humidity', 'Air Quality Health Index',\n",
       "       'Non-methane Hydrocarbons', 'Nitric Oxide', 'Nitrogen Dioxide',\n",
       "       'Total Oxides of Nitrogen', 'Hydrogen Sulphide',\n",
       "       'Fine Particulate Matter', 'Inhalable Particulate Matter'],\n",
       "      dtype=object)"
      ]
     },
     "execution_count": 27,
     "metadata": {},
     "output_type": "execute_result"
    }
   ],
   "source": [
    "calg21['Parameter'].unique()"
   ]
  },
  {
   "cell_type": "markdown",
   "id": "a4548545-466f-48e3-ac35-f52bee734525",
   "metadata": {},
   "source": [
    "#### Dropping columns dropping columns and changing column names to match first dataset and eventually concatenate both datasets."
   ]
  },
  {
   "cell_type": "code",
   "execution_count": 29,
   "id": "01f81ee4-28d4-4474-994a-010b74110933",
   "metadata": {},
   "outputs": [],
   "source": [
    "calg21.drop(['Abbreviation','Units Description', 'URL'], axis = 1, inplace = True)"
   ]
  },
  {
   "cell_type": "code",
   "execution_count": 30,
   "id": "8e0fe51e-389d-4774-a2df-8b290237a10b",
   "metadata": {},
   "outputs": [],
   "source": [
    "calg21[['Latitude','Longitude']] = calg21[['Latitude','Longitude']].astype(str)"
   ]
  },
  {
   "cell_type": "code",
   "execution_count": 31,
   "id": "0c62832e-e3da-40ae-a430-d5c26e3cb13f",
   "metadata": {},
   "outputs": [],
   "source": [
    "calg21['Location'] = calg21['Latitude'] + ', ' + calg21['Longitude']"
   ]
  },
  {
   "cell_type": "code",
   "execution_count": 32,
   "id": "2d1ba730-fd84-44ee-abcc-5e0dbc4e5dad",
   "metadata": {},
   "outputs": [],
   "source": [
    "calg21.loc[calg21['Parameter'] == 'Air Quality Health Index', 'Units'] = 'index'"
   ]
  },
  {
   "cell_type": "code",
   "execution_count": 33,
   "id": "f76924b8-0733-4216-a519-3f96405510c2",
   "metadata": {},
   "outputs": [],
   "source": [
    "calg21.drop(['Latitude','Longitude','Point'], axis = 1, inplace = True)"
   ]
  },
  {
   "cell_type": "code",
   "execution_count": 34,
   "id": "afc3a896-0bd0-4e3d-ae01-57bec62daabf",
   "metadata": {},
   "outputs": [
    {
     "name": "stdout",
     "output_type": "stream",
     "text": [
      "<class 'pandas.core.frame.DataFrame'>\n",
      "RangeIndex: 1227855 entries, 0 to 1227854\n",
      "Data columns (total 7 columns):\n",
      " #   Column        Non-Null Count    Dtype  \n",
      "---  ------        --------------    -----  \n",
      " 0   ReadingDate   1227855 non-null  object \n",
      " 1   Station Name  1227855 non-null  object \n",
      " 2   Parameter     1227855 non-null  object \n",
      " 3   Value         1128083 non-null  float64\n",
      " 4   Units         1227855 non-null  object \n",
      " 5   ID            1227855 non-null  object \n",
      " 6   Location      1227855 non-null  object \n",
      "dtypes: float64(1), object(6)\n",
      "memory usage: 65.6+ MB\n"
     ]
    }
   ],
   "source": [
    "calg21.info()"
   ]
  },
  {
   "cell_type": "markdown",
   "id": "7208688b-824c-4b00-9d0f-2145a8263127",
   "metadata": {},
   "source": [
    "#### Change datatypes"
   ]
  },
  {
   "cell_type": "code",
   "execution_count": 36,
   "id": "568e574e-e1b7-4195-ba9c-bbb21dd787ed",
   "metadata": {},
   "outputs": [],
   "source": [
    "calg21['ReadingDate'] = pd.to_datetime(calg21['ReadingDate'])"
   ]
  },
  {
   "cell_type": "code",
   "execution_count": 37,
   "id": "fe1ad9c8-dff7-47db-a69c-2c6439126c25",
   "metadata": {},
   "outputs": [
    {
     "name": "stdout",
     "output_type": "stream",
     "text": [
      "<class 'pandas.core.frame.DataFrame'>\n",
      "RangeIndex: 1227855 entries, 0 to 1227854\n",
      "Data columns (total 7 columns):\n",
      " #   Column        Non-Null Count    Dtype         \n",
      "---  ------        --------------    -----         \n",
      " 0   ReadingDate   1227855 non-null  datetime64[ns]\n",
      " 1   Station Name  1227855 non-null  object        \n",
      " 2   Parameter     1227855 non-null  object        \n",
      " 3   Value         1128083 non-null  float64       \n",
      " 4   Units         1227855 non-null  object        \n",
      " 5   ID            1227855 non-null  object        \n",
      " 6   Location      1227855 non-null  object        \n",
      "dtypes: datetime64[ns](1), float64(1), object(5)\n",
      "memory usage: 65.6+ MB\n"
     ]
    }
   ],
   "source": [
    "calg21.info()"
   ]
  },
  {
   "cell_type": "code",
   "execution_count": 38,
   "id": "92f605fd-8d4b-4ec5-94a1-d0ac1f6023bb",
   "metadata": {},
   "outputs": [],
   "source": [
    "calg21.drop('ID',axis = 1, inplace = True)"
   ]
  },
  {
   "cell_type": "code",
   "execution_count": 39,
   "id": "253876d6-1394-4373-a5a5-a35b3dcc6b1b",
   "metadata": {},
   "outputs": [],
   "source": [
    "calg21.rename(columns = {'Value':'Average Daily Value'}, inplace = True)"
   ]
  },
  {
   "cell_type": "code",
   "execution_count": 40,
   "id": "37df9939-19d1-4a3a-9bd7-09c940f45406",
   "metadata": {},
   "outputs": [],
   "source": [
    "calg21.rename(columns = {'ReadingDate':'Date'}, inplace = True)"
   ]
  },
  {
   "cell_type": "code",
   "execution_count": 41,
   "id": "6db8f9ac-8fce-4cf5-bf9d-731d1090f9b5",
   "metadata": {},
   "outputs": [
    {
     "data": {
      "text/plain": [
       "array(['Outdoor Temperature', 'Wind Speed', 'Sulphur Dioxide', 'Methane',\n",
       "       'Carbon Monoxide', 'Total Hydrocarbons', 'Ozone', 'Wind Direction',\n",
       "       'Relative Humidity', 'Air Quality Health Index',\n",
       "       'Non-methane Hydrocarbons', 'Nitric Oxide', 'Nitrogen Dioxide',\n",
       "       'Total Oxides of Nitrogen', 'Hydrogen Sulphide',\n",
       "       'Fine Particulate Matter', 'Inhalable Particulate Matter'],\n",
       "      dtype=object)"
      ]
     },
     "execution_count": 41,
     "metadata": {},
     "output_type": "execute_result"
    }
   ],
   "source": [
    "calg21['Parameter'].unique()"
   ]
  },
  {
   "cell_type": "code",
   "execution_count": 42,
   "id": "177ded57-66c5-4387-857c-e47db0bef481",
   "metadata": {},
   "outputs": [],
   "source": [
    "# Convert the readings to daily averages instead of hourly. The way we did this was by grouping by Date, Station Name, Param, Units, Location. There were multiple Stations which is why it is important to group by station name as well.\n",
    "calg21_daily = calg21.groupby(by = [calg21['Date'].dt.date, 'Station Name','Parameter','Units','Location'])['Average Daily Value'].mean().reset_index()"
   ]
  },
  {
   "cell_type": "code",
   "execution_count": 43,
   "id": "8158bb97-fbce-476b-9cee-ebaf61512ae4",
   "metadata": {},
   "outputs": [
    {
     "data": {
      "text/plain": [
       "array(['Ozone', 'Carbon Monoxide', 'Fine Particulate Matter', 'Methane',\n",
       "       'Nitric Oxide', 'Nitrogen Dioxide', 'Non-methane Hydrocarbons',\n",
       "       'Outdoor Temperature', 'Relative Humidity', 'Total Hydrocarbons',\n",
       "       'Total Oxides of Nitrogen', 'Wind Direction', 'Wind Speed',\n",
       "       'Hydrogen Sulphide', 'Sulphur Dioxide',\n",
       "       'Inhalable Particulate Matter', 'Air Quality Health Index'],\n",
       "      dtype=object)"
      ]
     },
     "execution_count": 43,
     "metadata": {},
     "output_type": "execute_result"
    }
   ],
   "source": [
    "calg21_daily['Parameter'].unique()"
   ]
  },
  {
   "cell_type": "code",
   "execution_count": 44,
   "id": "33066f31-d021-4191-95e8-d83305d18e14",
   "metadata": {},
   "outputs": [
    {
     "data": {
      "text/html": [
       "<div>\n",
       "<style scoped>\n",
       "    .dataframe tbody tr th:only-of-type {\n",
       "        vertical-align: middle;\n",
       "    }\n",
       "\n",
       "    .dataframe tbody tr th {\n",
       "        vertical-align: top;\n",
       "    }\n",
       "\n",
       "    .dataframe thead th {\n",
       "        text-align: right;\n",
       "    }\n",
       "</style>\n",
       "<table border=\"1\" class=\"dataframe\">\n",
       "  <thead>\n",
       "    <tr style=\"text-align: right;\">\n",
       "      <th></th>\n",
       "      <th>Date</th>\n",
       "      <th>Station Name</th>\n",
       "      <th>Parameter</th>\n",
       "      <th>Units</th>\n",
       "      <th>Location</th>\n",
       "      <th>Average Daily Value</th>\n",
       "    </tr>\n",
       "  </thead>\n",
       "  <tbody>\n",
       "    <tr>\n",
       "      <th>0</th>\n",
       "      <td>2021-09-15</td>\n",
       "      <td>Calgary Southeast</td>\n",
       "      <td>Ozone</td>\n",
       "      <td>ppm</td>\n",
       "      <td>50.955122, -113.969742</td>\n",
       "      <td>0.028000</td>\n",
       "    </tr>\n",
       "    <tr>\n",
       "      <th>1</th>\n",
       "      <td>2021-09-16</td>\n",
       "      <td>Calgary Central Inglewood</td>\n",
       "      <td>Carbon Monoxide</td>\n",
       "      <td>ppm</td>\n",
       "      <td>51.030789, -114.008836</td>\n",
       "      <td>0.177727</td>\n",
       "    </tr>\n",
       "    <tr>\n",
       "      <th>2</th>\n",
       "      <td>2021-09-16</td>\n",
       "      <td>Calgary Central Inglewood</td>\n",
       "      <td>Fine Particulate Matter</td>\n",
       "      <td>μg/m3</td>\n",
       "      <td>51.030789, -114.008836</td>\n",
       "      <td>1.717391</td>\n",
       "    </tr>\n",
       "    <tr>\n",
       "      <th>3</th>\n",
       "      <td>2021-09-16</td>\n",
       "      <td>Calgary Central Inglewood</td>\n",
       "      <td>Methane</td>\n",
       "      <td>ppm</td>\n",
       "      <td>51.030789, -114.008836</td>\n",
       "      <td>2.009091</td>\n",
       "    </tr>\n",
       "    <tr>\n",
       "      <th>4</th>\n",
       "      <td>2021-09-16</td>\n",
       "      <td>Calgary Central Inglewood</td>\n",
       "      <td>Nitric Oxide</td>\n",
       "      <td>ppm</td>\n",
       "      <td>51.030789, -114.008836</td>\n",
       "      <td>0.002682</td>\n",
       "    </tr>\n",
       "  </tbody>\n",
       "</table>\n",
       "</div>"
      ],
      "text/plain": [
       "         Date               Station Name                Parameter  Units  \\\n",
       "0  2021-09-15          Calgary Southeast                    Ozone    ppm   \n",
       "1  2021-09-16  Calgary Central Inglewood          Carbon Monoxide    ppm   \n",
       "2  2021-09-16  Calgary Central Inglewood  Fine Particulate Matter  μg/m3   \n",
       "3  2021-09-16  Calgary Central Inglewood                  Methane    ppm   \n",
       "4  2021-09-16  Calgary Central Inglewood             Nitric Oxide    ppm   \n",
       "\n",
       "                 Location  Average Daily Value  \n",
       "0  50.955122, -113.969742             0.028000  \n",
       "1  51.030789, -114.008836             0.177727  \n",
       "2  51.030789, -114.008836             1.717391  \n",
       "3  51.030789, -114.008836             2.009091  \n",
       "4  51.030789, -114.008836             0.002682  "
      ]
     },
     "execution_count": 44,
     "metadata": {},
     "output_type": "execute_result"
    }
   ],
   "source": [
    "calg21_daily.head()"
   ]
  },
  {
   "cell_type": "code",
   "execution_count": 45,
   "id": "0c8655bf-500f-4388-8038-fc5f0d186c8e",
   "metadata": {},
   "outputs": [],
   "source": [
    "# Adding datetime features \n",
    "\n",
    "calg21_daily['Date'] = pd.to_datetime(calg21_daily['Date'])\n",
    "calg21_daily['Year'] = pd.DatetimeIndex(calg21_daily['Date']).year\n",
    "calg21_daily['Month'] = calg21_daily['Date'].dt.month_name(locale = 'English')\n",
    "calg21_daily['Day'] = calg21_daily['Date'].dt.day_name(locale = 'English')\n",
    "calg21_daily['Day of Month'] = pd.DatetimeIndex(calg21_daily['Date']).day"
   ]
  },
  {
   "cell_type": "code",
   "execution_count": 46,
   "id": "a215f0f6-06bc-420e-b33f-cf1dc677cf4d",
   "metadata": {},
   "outputs": [],
   "source": [
    "calg21_daily['Average Daily Value'] = calg21_daily['Average Daily Value'].round(2)"
   ]
  },
  {
   "cell_type": "code",
   "execution_count": 47,
   "id": "03cfa97a-efde-48e7-8211-c840d6547efe",
   "metadata": {},
   "outputs": [],
   "source": [
    "# reordering the dataframe\n",
    "calg21_daily_reord = calg21_daily[['Station Name', 'Date', 'Parameter', 'Average Daily Value', 'Units','Location', 'Year', 'Month', 'Day', 'Day of Month']]"
   ]
  },
  {
   "cell_type": "code",
   "execution_count": 48,
   "id": "9a07e8d1-adec-4423-890c-db978823d1c7",
   "metadata": {},
   "outputs": [
    {
     "name": "stdout",
     "output_type": "stream",
     "text": [
      "<class 'pandas.core.frame.DataFrame'>\n",
      "RangeIndex: 52422 entries, 0 to 52421\n",
      "Data columns (total 10 columns):\n",
      " #   Column               Non-Null Count  Dtype         \n",
      "---  ------               --------------  -----         \n",
      " 0   Station Name         52422 non-null  object        \n",
      " 1   Date                 52422 non-null  datetime64[ns]\n",
      " 2   Parameter            52422 non-null  object        \n",
      " 3   Average Daily Value  49433 non-null  float64       \n",
      " 4   Units                52422 non-null  object        \n",
      " 5   Location             52422 non-null  object        \n",
      " 6   Year                 52422 non-null  int32         \n",
      " 7   Month                52422 non-null  object        \n",
      " 8   Day                  52422 non-null  object        \n",
      " 9   Day of Month         52422 non-null  int32         \n",
      "dtypes: datetime64[ns](1), float64(1), int32(2), object(6)\n",
      "memory usage: 3.6+ MB\n"
     ]
    }
   ],
   "source": [
    "calg21_daily_reord.info()"
   ]
  },
  {
   "cell_type": "code",
   "execution_count": 49,
   "id": "a08cd892-ff4d-4f42-8402-c4675d76e0e1",
   "metadata": {},
   "outputs": [
    {
     "name": "stdout",
     "output_type": "stream",
     "text": [
      "<class 'pandas.core.frame.DataFrame'>\n",
      "RangeIndex: 52422 entries, 0 to 52421\n",
      "Data columns (total 10 columns):\n",
      " #   Column               Non-Null Count  Dtype         \n",
      "---  ------               --------------  -----         \n",
      " 0   Station Name         52422 non-null  object        \n",
      " 1   Date                 52422 non-null  datetime64[ns]\n",
      " 2   Parameter            52422 non-null  object        \n",
      " 3   Average Daily Value  49433 non-null  float64       \n",
      " 4   Units                52422 non-null  object        \n",
      " 5   Location             52422 non-null  object        \n",
      " 6   Year                 52422 non-null  int32         \n",
      " 7   Month                52422 non-null  object        \n",
      " 8   Day                  52422 non-null  object        \n",
      " 9   Day of Month         52422 non-null  int32         \n",
      "dtypes: datetime64[ns](1), float64(1), int32(2), object(6)\n",
      "memory usage: 3.6+ MB\n"
     ]
    }
   ],
   "source": [
    "calg21_daily_reord.info()"
   ]
  },
  {
   "cell_type": "markdown",
   "id": "2e667f48-b369-4314-b3fc-63b20e42623f",
   "metadata": {},
   "source": [
    "### Merging calg21_daily_reord with calg dataframe"
   ]
  },
  {
   "cell_type": "code",
   "execution_count": 51,
   "id": "6f3f2413-a7d6-4ca1-93ed-db6c355a646a",
   "metadata": {},
   "outputs": [
    {
     "name": "stdout",
     "output_type": "stream",
     "text": [
      "<class 'pandas.core.frame.DataFrame'>\n",
      "RangeIndex: 422928 entries, 0 to 422927\n",
      "Data columns (total 10 columns):\n",
      " #   Column               Non-Null Count   Dtype         \n",
      "---  ------               --------------   -----         \n",
      " 0   Station Name         422928 non-null  object        \n",
      " 1   Date                 422928 non-null  datetime64[ns]\n",
      " 2   Parameter            422928 non-null  object        \n",
      " 3   Average Daily Value  422928 non-null  float64       \n",
      " 4   Units                422928 non-null  object        \n",
      " 5   Location             422928 non-null  object        \n",
      " 6   Year                 422928 non-null  int32         \n",
      " 7   Month                422928 non-null  object        \n",
      " 8   Day                  422928 non-null  object        \n",
      " 9   Day of Month         422928 non-null  int32         \n",
      "dtypes: datetime64[ns](1), float64(1), int32(2), object(6)\n",
      "memory usage: 29.0+ MB\n"
     ]
    }
   ],
   "source": [
    "calg.info()"
   ]
  },
  {
   "cell_type": "code",
   "execution_count": 52,
   "id": "394a1462-7ade-488a-a0c8-2393d5beff2b",
   "metadata": {},
   "outputs": [],
   "source": [
    "calg_daily = pd.concat([calg,calg21_daily_reord], axis = 0, ignore_index= True)"
   ]
  },
  {
   "cell_type": "code",
   "execution_count": 53,
   "id": "6c8cde79-81c3-41b7-9e58-2b28ad61f72a",
   "metadata": {},
   "outputs": [
    {
     "data": {
      "text/plain": [
       "array(['Air Quality Index', 'Wind Direction', 'Wind Speed',\n",
       "       'Carbon Monoxide', 'Methane', 'Nitric Oxide', 'Nitrogen Dioxide',\n",
       "       'Non-methane Hydrocarbons', 'Ozone', 'Total Hydrocarbons',\n",
       "       'Total Oxides Of Nitrogen', 'Hydrogen Sulphide', 'Sulphur Dioxide',\n",
       "       'PM2.5 Mass', 'Outdoor Air Temperature', 'Relative Humidity',\n",
       "       'Coefficient of Haze', 'Std. Dev. of Wind Direction', 'Ammonia',\n",
       "       'Net Radiation', 'PM10 Mass', 'Carbon Dioxide',\n",
       "       'Fine Particulate Matter', 'Outdoor Temperature',\n",
       "       'Total Oxides of Nitrogen', 'Inhalable Particulate Matter',\n",
       "       'Air Quality Health Index'], dtype=object)"
      ]
     },
     "execution_count": 53,
     "metadata": {},
     "output_type": "execute_result"
    }
   ],
   "source": [
    "calg_daily['Parameter'].unique()"
   ]
  },
  {
   "cell_type": "code",
   "execution_count": 54,
   "id": "245f97a8-5ef8-4be6-bd54-3c85c26b2cc1",
   "metadata": {},
   "outputs": [
    {
     "data": {
      "text/plain": [
       "array(['Air Quality Index', 'Wind Direction', 'Wind Speed',\n",
       "       'Carbon Monoxide', 'Methane', 'Nitric Oxide', 'Nitrogen Dioxide',\n",
       "       'Non-methane Hydrocarbons', 'Ozone', 'Total Hydrocarbons',\n",
       "       'Total Oxides Of Nitrogen', 'Hydrogen Sulphide', 'Sulphur Dioxide',\n",
       "       'PM2.5 Mass', 'Outdoor Air Temperature', 'Relative Humidity',\n",
       "       'Coefficient of Haze', 'Std. Dev. of Wind Direction', 'Ammonia',\n",
       "       'Net Radiation', 'PM10 Mass', 'Carbon Dioxide'], dtype=object)"
      ]
     },
     "execution_count": 54,
     "metadata": {},
     "output_type": "execute_result"
    }
   ],
   "source": [
    "calg['Parameter'].unique()"
   ]
  },
  {
   "cell_type": "code",
   "execution_count": 55,
   "id": "24f5fc09-2e71-40f7-bc65-1e16cf61a2e4",
   "metadata": {},
   "outputs": [
    {
     "data": {
      "text/plain": [
       "array(['Ozone', 'Carbon Monoxide', 'Fine Particulate Matter', 'Methane',\n",
       "       'Nitric Oxide', 'Nitrogen Dioxide', 'Non-methane Hydrocarbons',\n",
       "       'Outdoor Temperature', 'Relative Humidity', 'Total Hydrocarbons',\n",
       "       'Total Oxides of Nitrogen', 'Wind Direction', 'Wind Speed',\n",
       "       'Hydrogen Sulphide', 'Sulphur Dioxide',\n",
       "       'Inhalable Particulate Matter', 'Air Quality Health Index'],\n",
       "      dtype=object)"
      ]
     },
     "execution_count": 55,
     "metadata": {},
     "output_type": "execute_result"
    }
   ],
   "source": [
    "calg21_daily_reord['Parameter'].unique()"
   ]
  },
  {
   "cell_type": "code",
   "execution_count": 56,
   "id": "18e5c465-b7b7-441b-bd0b-58f694123f10",
   "metadata": {},
   "outputs": [],
   "source": [
    "calg_daily.sort_values(['Date','Station Name','Parameter'],ascending = [True,True,True], inplace = True, ignore_index = True)"
   ]
  },
  {
   "cell_type": "code",
   "execution_count": 57,
   "id": "aab6a2a7-da3e-45ce-95eb-2ad332820468",
   "metadata": {},
   "outputs": [],
   "source": [
    "# Rename Inhalable Particulate Matter as PM2.5 Mass, and Fine Particulate Matter to PM10 Mass. Rename other params to one unified name.\n",
    "calg_daily['Parameter'] = calg_daily['Parameter'].replace('Fine Particulate Matter','PM2.5 Mass')\n",
    "calg_daily['Parameter'] = calg_daily['Parameter'].replace('Inhalable Particulate Matter','PM10 Mass')\n",
    "calg_daily['Parameter'] = calg_daily['Parameter'].replace('Air Quality Index','Air Quality Health Index')\n",
    "calg_daily['Parameter'] = calg_daily['Parameter'].replace('Outdoor Air Temperature', 'Outdoor Temperature')\n",
    "calg_daily['Parameter'] = calg_daily['Parameter'].replace('Outdoor Air Temperature', 'Outdoor Temperature')"
   ]
  },
  {
   "cell_type": "code",
   "execution_count": 58,
   "id": "def85f02-c42a-4173-ba77-e10bfbda3c0d",
   "metadata": {},
   "outputs": [],
   "source": [
    "calg_daily['Station Name'] = calg_daily['Station Name'].replace('Calgary Southeast', 'Calgary East')\n",
    "calg_daily['Station Name'] = calg_daily['Station Name'].replace(['Calgary Central Inglewood','Calgary Central-Inglewood','Calgary Central 2'] ,'Calgary Central')\n",
    "calg_daily['Station Name'] = calg_daily['Station Name'].replace('Calgary Varsity', 'Calgary Northwest')"
   ]
  },
  {
   "cell_type": "code",
   "execution_count": 59,
   "id": "5c7dc5c0-d0a5-4fb6-92f2-5ae613477148",
   "metadata": {},
   "outputs": [
    {
     "data": {
      "text/plain": [
       "Station Name              0\n",
       "Date                      0\n",
       "Parameter                 0\n",
       "Average Daily Value    2989\n",
       "Units                     0\n",
       "Location                  0\n",
       "Year                      0\n",
       "Month                     0\n",
       "Day                       0\n",
       "Day of Month              0\n",
       "dtype: int64"
      ]
     },
     "execution_count": 59,
     "metadata": {},
     "output_type": "execute_result"
    }
   ],
   "source": [
    "calg_daily.isna().sum()"
   ]
  },
  {
   "cell_type": "code",
   "execution_count": 60,
   "id": "271c1961-bb5f-484c-bfbf-50c304ef13d1",
   "metadata": {},
   "outputs": [
    {
     "data": {
      "text/html": [
       "<div>\n",
       "<style scoped>\n",
       "    .dataframe tbody tr th:only-of-type {\n",
       "        vertical-align: middle;\n",
       "    }\n",
       "\n",
       "    .dataframe tbody tr th {\n",
       "        vertical-align: top;\n",
       "    }\n",
       "\n",
       "    .dataframe thead th {\n",
       "        text-align: right;\n",
       "    }\n",
       "</style>\n",
       "<table border=\"1\" class=\"dataframe\">\n",
       "  <thead>\n",
       "    <tr style=\"text-align: right;\">\n",
       "      <th></th>\n",
       "      <th>Station Name</th>\n",
       "      <th>Date</th>\n",
       "      <th>Parameter</th>\n",
       "      <th>Average Daily Value</th>\n",
       "      <th>Units</th>\n",
       "      <th>Location</th>\n",
       "      <th>Year</th>\n",
       "      <th>Month</th>\n",
       "      <th>Day</th>\n",
       "      <th>Day of Month</th>\n",
       "    </tr>\n",
       "  </thead>\n",
       "  <tbody>\n",
       "    <tr>\n",
       "      <th>0</th>\n",
       "      <td>Calgary East</td>\n",
       "      <td>1980-01-01</td>\n",
       "      <td>Carbon Monoxide</td>\n",
       "      <td>1.73</td>\n",
       "      <td>ppm</td>\n",
       "      <td>51.009444, -114.025278</td>\n",
       "      <td>1980</td>\n",
       "      <td>January</td>\n",
       "      <td>Tuesday</td>\n",
       "      <td>1</td>\n",
       "    </tr>\n",
       "    <tr>\n",
       "      <th>1</th>\n",
       "      <td>Calgary East</td>\n",
       "      <td>1980-01-01</td>\n",
       "      <td>Nitrogen Dioxide</td>\n",
       "      <td>0.03</td>\n",
       "      <td>ppm</td>\n",
       "      <td>51.009444, -114.025278</td>\n",
       "      <td>1980</td>\n",
       "      <td>January</td>\n",
       "      <td>Tuesday</td>\n",
       "      <td>1</td>\n",
       "    </tr>\n",
       "    <tr>\n",
       "      <th>2</th>\n",
       "      <td>Calgary East</td>\n",
       "      <td>1980-01-02</td>\n",
       "      <td>Carbon Monoxide</td>\n",
       "      <td>3.40</td>\n",
       "      <td>ppm</td>\n",
       "      <td>51.009444, -114.025278</td>\n",
       "      <td>1980</td>\n",
       "      <td>January</td>\n",
       "      <td>Wednesday</td>\n",
       "      <td>2</td>\n",
       "    </tr>\n",
       "    <tr>\n",
       "      <th>3</th>\n",
       "      <td>Calgary East</td>\n",
       "      <td>1980-01-02</td>\n",
       "      <td>Nitrogen Dioxide</td>\n",
       "      <td>0.04</td>\n",
       "      <td>ppm</td>\n",
       "      <td>51.009444, -114.025278</td>\n",
       "      <td>1980</td>\n",
       "      <td>January</td>\n",
       "      <td>Wednesday</td>\n",
       "      <td>2</td>\n",
       "    </tr>\n",
       "    <tr>\n",
       "      <th>4</th>\n",
       "      <td>Calgary East</td>\n",
       "      <td>1980-01-03</td>\n",
       "      <td>Carbon Monoxide</td>\n",
       "      <td>2.22</td>\n",
       "      <td>ppm</td>\n",
       "      <td>51.009444, -114.025278</td>\n",
       "      <td>1980</td>\n",
       "      <td>January</td>\n",
       "      <td>Thursday</td>\n",
       "      <td>3</td>\n",
       "    </tr>\n",
       "    <tr>\n",
       "      <th>...</th>\n",
       "      <td>...</td>\n",
       "      <td>...</td>\n",
       "      <td>...</td>\n",
       "      <td>...</td>\n",
       "      <td>...</td>\n",
       "      <td>...</td>\n",
       "      <td>...</td>\n",
       "      <td>...</td>\n",
       "      <td>...</td>\n",
       "      <td>...</td>\n",
       "    </tr>\n",
       "    <tr>\n",
       "      <th>475344</th>\n",
       "      <td>Calgary Northwest</td>\n",
       "      <td>2025-02-17</td>\n",
       "      <td>Ozone</td>\n",
       "      <td>0.02</td>\n",
       "      <td>ppm</td>\n",
       "      <td>51.08272, -114.138994</td>\n",
       "      <td>2025</td>\n",
       "      <td>February</td>\n",
       "      <td>Monday</td>\n",
       "      <td>17</td>\n",
       "    </tr>\n",
       "    <tr>\n",
       "      <th>475345</th>\n",
       "      <td>Calgary Northwest</td>\n",
       "      <td>2025-02-17</td>\n",
       "      <td>Relative Humidity</td>\n",
       "      <td>74.68</td>\n",
       "      <td>%</td>\n",
       "      <td>51.08272, -114.138994</td>\n",
       "      <td>2025</td>\n",
       "      <td>February</td>\n",
       "      <td>Monday</td>\n",
       "      <td>17</td>\n",
       "    </tr>\n",
       "    <tr>\n",
       "      <th>475347</th>\n",
       "      <td>Calgary Northwest</td>\n",
       "      <td>2025-02-17</td>\n",
       "      <td>Total Oxides of Nitrogen</td>\n",
       "      <td>0.02</td>\n",
       "      <td>ppm</td>\n",
       "      <td>51.08272, -114.138994</td>\n",
       "      <td>2025</td>\n",
       "      <td>February</td>\n",
       "      <td>Monday</td>\n",
       "      <td>17</td>\n",
       "    </tr>\n",
       "    <tr>\n",
       "      <th>475348</th>\n",
       "      <td>Calgary Northwest</td>\n",
       "      <td>2025-02-17</td>\n",
       "      <td>Wind Direction</td>\n",
       "      <td>118.65</td>\n",
       "      <td>°</td>\n",
       "      <td>51.08272, -114.138994</td>\n",
       "      <td>2025</td>\n",
       "      <td>February</td>\n",
       "      <td>Monday</td>\n",
       "      <td>17</td>\n",
       "    </tr>\n",
       "    <tr>\n",
       "      <th>475349</th>\n",
       "      <td>Calgary Northwest</td>\n",
       "      <td>2025-02-17</td>\n",
       "      <td>Wind Speed</td>\n",
       "      <td>8.53</td>\n",
       "      <td>kph</td>\n",
       "      <td>51.08272, -114.138994</td>\n",
       "      <td>2025</td>\n",
       "      <td>February</td>\n",
       "      <td>Monday</td>\n",
       "      <td>17</td>\n",
       "    </tr>\n",
       "  </tbody>\n",
       "</table>\n",
       "<p>472361 rows × 10 columns</p>\n",
       "</div>"
      ],
      "text/plain": [
       "             Station Name       Date                 Parameter  \\\n",
       "0            Calgary East 1980-01-01           Carbon Monoxide   \n",
       "1            Calgary East 1980-01-01          Nitrogen Dioxide   \n",
       "2            Calgary East 1980-01-02           Carbon Monoxide   \n",
       "3            Calgary East 1980-01-02          Nitrogen Dioxide   \n",
       "4            Calgary East 1980-01-03           Carbon Monoxide   \n",
       "...                   ...        ...                       ...   \n",
       "475344  Calgary Northwest 2025-02-17                     Ozone   \n",
       "475345  Calgary Northwest 2025-02-17         Relative Humidity   \n",
       "475347  Calgary Northwest 2025-02-17  Total Oxides of Nitrogen   \n",
       "475348  Calgary Northwest 2025-02-17            Wind Direction   \n",
       "475349  Calgary Northwest 2025-02-17                Wind Speed   \n",
       "\n",
       "        Average Daily Value Units                Location  Year     Month  \\\n",
       "0                      1.73   ppm  51.009444, -114.025278  1980   January   \n",
       "1                      0.03   ppm  51.009444, -114.025278  1980   January   \n",
       "2                      3.40   ppm  51.009444, -114.025278  1980   January   \n",
       "3                      0.04   ppm  51.009444, -114.025278  1980   January   \n",
       "4                      2.22   ppm  51.009444, -114.025278  1980   January   \n",
       "...                     ...   ...                     ...   ...       ...   \n",
       "475344                 0.02   ppm   51.08272, -114.138994  2025  February   \n",
       "475345                74.68     %   51.08272, -114.138994  2025  February   \n",
       "475347                 0.02   ppm   51.08272, -114.138994  2025  February   \n",
       "475348               118.65     °   51.08272, -114.138994  2025  February   \n",
       "475349                 8.53   kph   51.08272, -114.138994  2025  February   \n",
       "\n",
       "              Day  Day of Month  \n",
       "0         Tuesday             1  \n",
       "1         Tuesday             1  \n",
       "2       Wednesday             2  \n",
       "3       Wednesday             2  \n",
       "4        Thursday             3  \n",
       "...           ...           ...  \n",
       "475344     Monday            17  \n",
       "475345     Monday            17  \n",
       "475347     Monday            17  \n",
       "475348     Monday            17  \n",
       "475349     Monday            17  \n",
       "\n",
       "[472361 rows x 10 columns]"
      ]
     },
     "execution_count": 60,
     "metadata": {},
     "output_type": "execute_result"
    }
   ],
   "source": [
    "calg_daily.dropna()"
   ]
  },
  {
   "cell_type": "code",
   "execution_count": 61,
   "id": "96e45ffb-d7b1-469e-8127-b1b099dbe01b",
   "metadata": {},
   "outputs": [
    {
     "data": {
      "text/plain": [
       "array(['Carbon Monoxide', 'Nitrogen Dioxide', 'Total Oxides Of Nitrogen',\n",
       "       'Nitric Oxide', 'Wind Direction', 'Wind Speed',\n",
       "       'Coefficient of Haze', 'Ozone', 'Sulphur Dioxide',\n",
       "       'Total Hydrocarbons', 'Hydrogen Sulphide',\n",
       "       'Std. Dev. of Wind Direction', 'Carbon Dioxide', 'Net Radiation',\n",
       "       'PM10 Mass', 'Air Quality Health Index', 'PM2.5 Mass',\n",
       "       'Outdoor Temperature', 'Relative Humidity', 'Methane', 'Ammonia',\n",
       "       'Non-methane Hydrocarbons', 'Total Oxides of Nitrogen'],\n",
       "      dtype=object)"
      ]
     },
     "execution_count": 61,
     "metadata": {},
     "output_type": "execute_result"
    }
   ],
   "source": [
    "calg_daily['Parameter'].unique()"
   ]
  },
  {
   "cell_type": "code",
   "execution_count": 62,
   "id": "f402f9b2-d15b-48ef-9234-7d468af91913",
   "metadata": {},
   "outputs": [],
   "source": [
    "calg_daily.loc[calg_daily['Parameter'] == 'Outdoor Temperature', 'Units'] = '°C'"
   ]
  },
  {
   "cell_type": "markdown",
   "id": "8e687f77-866f-4ddb-8efa-d1bd78889072",
   "metadata": {},
   "source": [
    "### Filtering MAIN dataset that has all stations, to a dataset only for Calgary Central. This is a very large dataset and performing modelling for all stations will require time. Our model is focused on Calgary Central and predicting AQHI. This model will become a blueprint for other models across regions within Calgary."
   ]
  },
  {
   "cell_type": "code",
   "execution_count": 64,
   "id": "67898277-65b5-4245-aa81-3b03742f8117",
   "metadata": {},
   "outputs": [],
   "source": [
    "calg_filtered = calg_daily[(calg_daily['Station Name'].isin(['Calgary Central'])) & (calg_daily['Parameter'].isin(['Air Quality Health Index','PM2.5 Mass'\n",
    "                                                                                                         ,'Ozone','PM10 Mass','Nitrogen Dioxide','Sulphur Dioxide',\n",
    "                                                                                                        'Carbon Monoxide', 'Outdoor Temperature',\n",
    "                                                                                                            'Relative Humidity','Wind Direction',\n",
    "                                                                                                            'Wind Speed']))]"
   ]
  },
  {
   "cell_type": "code",
   "execution_count": 65,
   "id": "fd192bc3-cbde-4280-92e2-f63bdec50f5c",
   "metadata": {},
   "outputs": [
    {
     "data": {
      "text/plain": [
       "Station Name           35\n",
       "Date                   35\n",
       "Parameter              35\n",
       "Average Daily Value    35\n",
       "Units                  35\n",
       "Location               35\n",
       "Year                   35\n",
       "Month                  35\n",
       "Day                    35\n",
       "Day of Month           35\n",
       "dtype: int64"
      ]
     },
     "execution_count": 65,
     "metadata": {},
     "output_type": "execute_result"
    }
   ],
   "source": [
    "calg_filtered[calg_filtered['Parameter'] == 'Sulphur Dioxide'].count()"
   ]
  },
  {
   "cell_type": "code",
   "execution_count": 66,
   "id": "67094ad8-e8be-445f-a272-ab9dee0367ca",
   "metadata": {},
   "outputs": [],
   "source": [
    "# Creating pivoted dataframe for model.\n",
    "calg_pivot = calg_filtered.pivot_table(values = 'Average Daily Value', index = 'Date', \n",
    "                                      columns = 'Parameter', aggfunc = 'mean').reset_index()"
   ]
  },
  {
   "cell_type": "code",
   "execution_count": 67,
   "id": "f81ee725-5dd7-481b-aa83-c7afa9a91ff6",
   "metadata": {},
   "outputs": [
    {
     "name": "stdout",
     "output_type": "stream",
     "text": [
      "<class 'pandas.core.frame.DataFrame'>\n",
      "RangeIndex: 14509 entries, 0 to 14508\n",
      "Data columns (total 12 columns):\n",
      " #   Column                    Non-Null Count  Dtype         \n",
      "---  ------                    --------------  -----         \n",
      " 0   Date                      14509 non-null  datetime64[ns]\n",
      " 1   Air Quality Health Index  8890 non-null   float64       \n",
      " 2   Carbon Monoxide           14388 non-null  float64       \n",
      " 3   Nitrogen Dioxide          14345 non-null  float64       \n",
      " 4   Outdoor Temperature       1341 non-null   float64       \n",
      " 5   Ozone                     14391 non-null  float64       \n",
      " 6   PM10 Mass                 6316 non-null   float64       \n",
      " 7   PM2.5 Mass                8980 non-null   float64       \n",
      " 8   Relative Humidity         1329 non-null   float64       \n",
      " 9   Sulphur Dioxide           35 non-null     float64       \n",
      " 10  Wind Direction            1431 non-null   float64       \n",
      " 11  Wind Speed                1431 non-null   float64       \n",
      "dtypes: datetime64[ns](1), float64(11)\n",
      "memory usage: 1.3 MB\n"
     ]
    }
   ],
   "source": [
    "calg_pivot.info()"
   ]
  },
  {
   "cell_type": "code",
   "execution_count": 68,
   "id": "64c1c606-d6dc-4b51-abca-90acd87fb4ff",
   "metadata": {},
   "outputs": [],
   "source": [
    "#Create date time features\n",
    "\n",
    "calg_pivot['Year'] = pd.DatetimeIndex(calg_pivot['Date']).year\n",
    "calg_pivot['Month'] = calg_pivot['Date'].dt.month_name(locale = 'English')\n",
    "calg_pivot['Day'] = calg_pivot['Date'].dt.day_name(locale = 'English')\n",
    "calg_pivot['Day of Month'] = pd.DatetimeIndex(calg_pivot['Date']).day"
   ]
  },
  {
   "cell_type": "code",
   "execution_count": 69,
   "id": "1ce9eaff-82ed-4fac-8d2c-8130bf0cf2d3",
   "metadata": {},
   "outputs": [],
   "source": [
    "calg_pivot = calg_pivot.drop(calg_pivot[(calg_pivot['Date'] >= '2019-01-01') & (calg_pivot['Date'] <= '2021-09-17')].index)"
   ]
  },
  {
   "cell_type": "code",
   "execution_count": 70,
   "id": "b27ec6ab-b912-4389-adc4-7d4c5d5b6daa",
   "metadata": {},
   "outputs": [
    {
     "name": "stdout",
     "output_type": "stream",
     "text": [
      "<class 'pandas.core.frame.DataFrame'>\n",
      "Index: 14314 entries, 0 to 14508\n",
      "Data columns (total 16 columns):\n",
      " #   Column                    Non-Null Count  Dtype         \n",
      "---  ------                    --------------  -----         \n",
      " 0   Date                      14314 non-null  datetime64[ns]\n",
      " 1   Air Quality Health Index  8697 non-null   float64       \n",
      " 2   Carbon Monoxide           14194 non-null  float64       \n",
      " 3   Nitrogen Dioxide          14153 non-null  float64       \n",
      " 4   Outdoor Temperature       1241 non-null   float64       \n",
      " 5   Ozone                     14198 non-null  float64       \n",
      " 6   PM10 Mass                 6316 non-null   float64       \n",
      " 7   PM2.5 Mass                8790 non-null   float64       \n",
      " 8   Relative Humidity         1241 non-null   float64       \n",
      " 9   Sulphur Dioxide           35 non-null     float64       \n",
      " 10  Wind Direction            1241 non-null   float64       \n",
      " 11  Wind Speed                1241 non-null   float64       \n",
      " 12  Year                      14314 non-null  int32         \n",
      " 13  Month                     14314 non-null  object        \n",
      " 14  Day                       14314 non-null  object        \n",
      " 15  Day of Month              14314 non-null  int32         \n",
      "dtypes: datetime64[ns](1), float64(11), int32(2), object(2)\n",
      "memory usage: 1.7+ MB\n"
     ]
    }
   ],
   "source": [
    "calg_pivot.info()"
   ]
  },
  {
   "cell_type": "markdown",
   "id": "42c407c2-ae70-42d0-8f29-669067c575c2",
   "metadata": {},
   "source": [
    "### Filling null values with backfill and forward fill since these features do not drastically change within 24 hours. We know that this is not the most optimal way to fill these values. Perhaps a K-means clustering algorithm may work better but will be time consuming and computationally expensive."
   ]
  },
  {
   "cell_type": "code",
   "execution_count": 72,
   "id": "9564b7b5-4940-4c14-ab2a-3609991b5b83",
   "metadata": {},
   "outputs": [],
   "source": [
    "calg_pivot['Outdoor Temperature'] = calg_pivot['Outdoor Temperature'].bfill().ffill()\n",
    "calg_pivot['Relative Humidity'] = calg_pivot['Relative Humidity'].bfill().ffill()\n",
    "calg_pivot['Wind Speed'] = calg_pivot['Wind Speed'].bfill().ffill()\n",
    "calg_pivot['Wind Direction'] = calg_pivot['Wind Direction'].bfill().ffill()\n",
    "calg_pivot['PM2.5 Mass'] = calg_pivot['PM2.5 Mass'].bfill().ffill()\n",
    "calg_pivot['PM10 Mass'] = calg_pivot['PM10 Mass'].bfill().ffill()\n",
    "calg_pivot['Air Quality Health Index'] = calg_pivot['Air Quality Health Index'].bfill().ffill()\n",
    "calg_pivot['Nitrogen Dioxide'] = calg_pivot['Nitrogen Dioxide'].bfill().ffill()\n",
    "calg_pivot['Carbon Monoxide'] = calg_pivot['Carbon Monoxide'].bfill().ffill()\n",
    "calg_pivot['Ozone'] = calg_pivot['Ozone'].bfill().ffill()"
   ]
  },
  {
   "cell_type": "code",
   "execution_count": 73,
   "id": "59f72bbe-42ad-46a5-8380-4bdc6ca6a3c7",
   "metadata": {},
   "outputs": [
    {
     "data": {
      "image/png": "[encoded data removed]",
      "text/plain": [
       "<Figure size 1400x600 with 1 Axes>"
      ]
     },
     "metadata": {},
     "output_type": "display_data"
    }
   ],
   "source": [
    "# Capturing seasonality across the years for parameter tuning beforehand:\n",
    "\n",
    "import seaborn as sns\n",
    "\n",
    "# sort by date to ensure proper plotting\n",
    "calg_pivot = calg_pivot.sort_values('Date')\n",
    "\n",
    "filtered_calg_pivot = calg_pivot[calg_pivot['Date'] >= '2012-01-01'].sort_values('Date')\n",
    "\n",
    "plt.figure(figsize=(14, 6))\n",
    "sns.lineplot(data=filtered_calg_pivot, x='Date', y='Air Quality Health Index', color='steelblue')\n",
    "\n",
    "plt.title('AQHI Over Time (All Years)')\n",
    "plt.xlabel('Date')\n",
    "plt.ylabel('Air Quality Health Index')\n",
    "plt.grid(True, linestyle='--', alpha=0.4)\n",
    "plt.tight_layout()\n",
    "plt.show()\n"
   ]
  },
  {
   "cell_type": "code",
   "execution_count": 74,
   "id": "46a90a83-8cb6-40f9-a7bf-497fd216d457",
   "metadata": {},
   "outputs": [],
   "source": [
    "# Values for AQHI were found to be 0 ZERO, hence df starting from 1997 instead of 1980\n",
    "calg_cent1997 = calg_pivot[calg_pivot['Date'] >= '1997-11-01'].copy()"
   ]
  },
  {
   "cell_type": "code",
   "execution_count": 75,
   "id": "1d65bb73-d96b-400b-9115-825b91e4a257",
   "metadata": {},
   "outputs": [],
   "source": [
    "# Adding temporal features (Day of month already added)\n",
    "calg_cent1997['Month Num'] = calg_cent1997['Date'].dt.month.copy()\n",
    "calg_cent1997['Is Weekend'] = calg_cent1997['Day'].apply(lambda x: 1 if x in (['Saturday','Sunday']) else 0).copy()"
   ]
  },
  {
   "cell_type": "code",
   "execution_count": 76,
   "id": "4563d26e-911c-4481-9d58-a0d8f7b9848a",
   "metadata": {},
   "outputs": [],
   "source": [
    "calg_cent1997 = calg_cent1997.set_index('Date')\n",
    "calg_cent1997 = calg_cent1997.sort_index()\n",
    "calg_cent1997 = calg_cent1997.asfreq('D')"
   ]
  },
  {
   "cell_type": "code",
   "execution_count": 77,
   "id": "4c5f05f3-5ef1-487b-9448-5c7406ba4216",
   "metadata": {},
   "outputs": [
    {
     "data": {
      "text/plain": [
       "Index(['Air Quality Health Index', 'Carbon Monoxide', 'Nitrogen Dioxide',\n",
       "       'Outdoor Temperature', 'Ozone', 'PM10 Mass', 'PM2.5 Mass',\n",
       "       'Relative Humidity', 'Sulphur Dioxide', 'Wind Direction', 'Wind Speed',\n",
       "       'Year', 'Month', 'Day', 'Day of Month', 'Month Num', 'Is Weekend'],\n",
       "      dtype='object', name='Parameter')"
      ]
     },
     "execution_count": 77,
     "metadata": {},
     "output_type": "execute_result"
    }
   ],
   "source": [
    "calg_cent1997.columns"
   ]
  },
  {
   "cell_type": "code",
   "execution_count": 78,
   "id": "5b1b6f13-672a-4ea2-b215-1dc36befffbf",
   "metadata": {},
   "outputs": [
    {
     "data": {
      "text/html": [
       "<div>\n",
       "<style scoped>\n",
       "    .dataframe tbody tr th:only-of-type {\n",
       "        vertical-align: middle;\n",
       "    }\n",
       "\n",
       "    .dataframe tbody tr th {\n",
       "        vertical-align: top;\n",
       "    }\n",
       "\n",
       "    .dataframe thead th {\n",
       "        text-align: right;\n",
       "    }\n",
       "</style>\n",
       "<table border=\"1\" class=\"dataframe\">\n",
       "  <thead>\n",
       "    <tr style=\"text-align: right;\">\n",
       "      <th>Parameter</th>\n",
       "      <th>Air Quality Health Index</th>\n",
       "      <th>Carbon Monoxide</th>\n",
       "      <th>Nitrogen Dioxide</th>\n",
       "      <th>Outdoor Temperature</th>\n",
       "      <th>Ozone</th>\n",
       "      <th>PM10 Mass</th>\n",
       "      <th>PM2.5 Mass</th>\n",
       "      <th>Relative Humidity</th>\n",
       "      <th>Sulphur Dioxide</th>\n",
       "      <th>Wind Direction</th>\n",
       "      <th>Wind Speed</th>\n",
       "      <th>Year</th>\n",
       "      <th>Month</th>\n",
       "      <th>Day</th>\n",
       "      <th>Day of Month</th>\n",
       "      <th>Month Num</th>\n",
       "      <th>Is Weekend</th>\n",
       "    </tr>\n",
       "    <tr>\n",
       "      <th>Date</th>\n",
       "      <th></th>\n",
       "      <th></th>\n",
       "      <th></th>\n",
       "      <th></th>\n",
       "      <th></th>\n",
       "      <th></th>\n",
       "      <th></th>\n",
       "      <th></th>\n",
       "      <th></th>\n",
       "      <th></th>\n",
       "      <th></th>\n",
       "      <th></th>\n",
       "      <th></th>\n",
       "      <th></th>\n",
       "      <th></th>\n",
       "      <th></th>\n",
       "      <th></th>\n",
       "    </tr>\n",
       "  </thead>\n",
       "  <tbody>\n",
       "    <tr>\n",
       "      <th>1997-11-01</th>\n",
       "      <td>8.60</td>\n",
       "      <td>0.50</td>\n",
       "      <td>0.03</td>\n",
       "      <td>14.87</td>\n",
       "      <td>0.02</td>\n",
       "      <td>8.18</td>\n",
       "      <td>5.86</td>\n",
       "      <td>52.50</td>\n",
       "      <td>NaN</td>\n",
       "      <td>245.00</td>\n",
       "      <td>7.82</td>\n",
       "      <td>1997.0</td>\n",
       "      <td>November</td>\n",
       "      <td>Saturday</td>\n",
       "      <td>1.0</td>\n",
       "      <td>11.0</td>\n",
       "      <td>1.0</td>\n",
       "    </tr>\n",
       "    <tr>\n",
       "      <th>1997-11-02</th>\n",
       "      <td>9.60</td>\n",
       "      <td>1.32</td>\n",
       "      <td>0.04</td>\n",
       "      <td>14.87</td>\n",
       "      <td>0.00</td>\n",
       "      <td>16.23</td>\n",
       "      <td>8.31</td>\n",
       "      <td>52.50</td>\n",
       "      <td>NaN</td>\n",
       "      <td>245.00</td>\n",
       "      <td>7.82</td>\n",
       "      <td>1997.0</td>\n",
       "      <td>November</td>\n",
       "      <td>Sunday</td>\n",
       "      <td>2.0</td>\n",
       "      <td>11.0</td>\n",
       "      <td>1.0</td>\n",
       "    </tr>\n",
       "    <tr>\n",
       "      <th>1997-11-03</th>\n",
       "      <td>12.76</td>\n",
       "      <td>1.52</td>\n",
       "      <td>0.04</td>\n",
       "      <td>14.87</td>\n",
       "      <td>0.01</td>\n",
       "      <td>26.76</td>\n",
       "      <td>13.00</td>\n",
       "      <td>52.50</td>\n",
       "      <td>NaN</td>\n",
       "      <td>245.00</td>\n",
       "      <td>7.82</td>\n",
       "      <td>1997.0</td>\n",
       "      <td>November</td>\n",
       "      <td>Monday</td>\n",
       "      <td>3.0</td>\n",
       "      <td>11.0</td>\n",
       "      <td>0.0</td>\n",
       "    </tr>\n",
       "    <tr>\n",
       "      <th>1997-11-04</th>\n",
       "      <td>13.58</td>\n",
       "      <td>0.96</td>\n",
       "      <td>0.03</td>\n",
       "      <td>14.87</td>\n",
       "      <td>0.01</td>\n",
       "      <td>22.00</td>\n",
       "      <td>11.07</td>\n",
       "      <td>52.50</td>\n",
       "      <td>NaN</td>\n",
       "      <td>245.00</td>\n",
       "      <td>7.82</td>\n",
       "      <td>1997.0</td>\n",
       "      <td>November</td>\n",
       "      <td>Tuesday</td>\n",
       "      <td>4.0</td>\n",
       "      <td>11.0</td>\n",
       "      <td>0.0</td>\n",
       "    </tr>\n",
       "    <tr>\n",
       "      <th>1997-11-05</th>\n",
       "      <td>13.58</td>\n",
       "      <td>1.25</td>\n",
       "      <td>0.04</td>\n",
       "      <td>14.87</td>\n",
       "      <td>0.01</td>\n",
       "      <td>15.96</td>\n",
       "      <td>8.75</td>\n",
       "      <td>52.50</td>\n",
       "      <td>NaN</td>\n",
       "      <td>245.00</td>\n",
       "      <td>7.82</td>\n",
       "      <td>1997.0</td>\n",
       "      <td>November</td>\n",
       "      <td>Wednesday</td>\n",
       "      <td>5.0</td>\n",
       "      <td>11.0</td>\n",
       "      <td>0.0</td>\n",
       "    </tr>\n",
       "    <tr>\n",
       "      <th>...</th>\n",
       "      <td>...</td>\n",
       "      <td>...</td>\n",
       "      <td>...</td>\n",
       "      <td>...</td>\n",
       "      <td>...</td>\n",
       "      <td>...</td>\n",
       "      <td>...</td>\n",
       "      <td>...</td>\n",
       "      <td>...</td>\n",
       "      <td>...</td>\n",
       "      <td>...</td>\n",
       "      <td>...</td>\n",
       "      <td>...</td>\n",
       "      <td>...</td>\n",
       "      <td>...</td>\n",
       "      <td>...</td>\n",
       "      <td>...</td>\n",
       "    </tr>\n",
       "    <tr>\n",
       "      <th>2025-02-13</th>\n",
       "      <td>4.29</td>\n",
       "      <td>0.32</td>\n",
       "      <td>0.03</td>\n",
       "      <td>-13.86</td>\n",
       "      <td>0.02</td>\n",
       "      <td>0.00</td>\n",
       "      <td>20.95</td>\n",
       "      <td>95.38</td>\n",
       "      <td>NaN</td>\n",
       "      <td>149.45</td>\n",
       "      <td>5.80</td>\n",
       "      <td>2025.0</td>\n",
       "      <td>February</td>\n",
       "      <td>Thursday</td>\n",
       "      <td>13.0</td>\n",
       "      <td>2.0</td>\n",
       "      <td>0.0</td>\n",
       "    </tr>\n",
       "    <tr>\n",
       "      <th>2025-02-14</th>\n",
       "      <td>2.88</td>\n",
       "      <td>0.15</td>\n",
       "      <td>0.01</td>\n",
       "      <td>-19.08</td>\n",
       "      <td>0.03</td>\n",
       "      <td>0.00</td>\n",
       "      <td>8.26</td>\n",
       "      <td>89.59</td>\n",
       "      <td>NaN</td>\n",
       "      <td>66.33</td>\n",
       "      <td>8.50</td>\n",
       "      <td>2025.0</td>\n",
       "      <td>February</td>\n",
       "      <td>Friday</td>\n",
       "      <td>14.0</td>\n",
       "      <td>2.0</td>\n",
       "      <td>0.0</td>\n",
       "    </tr>\n",
       "    <tr>\n",
       "      <th>2025-02-15</th>\n",
       "      <td>3.71</td>\n",
       "      <td>0.31</td>\n",
       "      <td>0.02</td>\n",
       "      <td>-19.28</td>\n",
       "      <td>0.02</td>\n",
       "      <td>0.00</td>\n",
       "      <td>14.51</td>\n",
       "      <td>77.02</td>\n",
       "      <td>NaN</td>\n",
       "      <td>248.33</td>\n",
       "      <td>4.98</td>\n",
       "      <td>2025.0</td>\n",
       "      <td>February</td>\n",
       "      <td>Saturday</td>\n",
       "      <td>15.0</td>\n",
       "      <td>2.0</td>\n",
       "      <td>1.0</td>\n",
       "    </tr>\n",
       "    <tr>\n",
       "      <th>2025-02-16</th>\n",
       "      <td>4.08</td>\n",
       "      <td>0.28</td>\n",
       "      <td>0.02</td>\n",
       "      <td>-20.58</td>\n",
       "      <td>0.02</td>\n",
       "      <td>0.00</td>\n",
       "      <td>24.31</td>\n",
       "      <td>87.10</td>\n",
       "      <td>NaN</td>\n",
       "      <td>116.86</td>\n",
       "      <td>5.51</td>\n",
       "      <td>2025.0</td>\n",
       "      <td>February</td>\n",
       "      <td>Sunday</td>\n",
       "      <td>16.0</td>\n",
       "      <td>2.0</td>\n",
       "      <td>1.0</td>\n",
       "    </tr>\n",
       "    <tr>\n",
       "      <th>2025-02-17</th>\n",
       "      <td>3.83</td>\n",
       "      <td>0.22</td>\n",
       "      <td>0.02</td>\n",
       "      <td>-24.31</td>\n",
       "      <td>0.02</td>\n",
       "      <td>0.00</td>\n",
       "      <td>20.59</td>\n",
       "      <td>75.24</td>\n",
       "      <td>NaN</td>\n",
       "      <td>134.04</td>\n",
       "      <td>7.02</td>\n",
       "      <td>2025.0</td>\n",
       "      <td>February</td>\n",
       "      <td>Monday</td>\n",
       "      <td>17.0</td>\n",
       "      <td>2.0</td>\n",
       "      <td>0.0</td>\n",
       "    </tr>\n",
       "  </tbody>\n",
       "</table>\n",
       "<p>9971 rows × 17 columns</p>\n",
       "</div>"
      ],
      "text/plain": [
       "Parameter   Air Quality Health Index  Carbon Monoxide  Nitrogen Dioxide  \\\n",
       "Date                                                                      \n",
       "1997-11-01                      8.60             0.50              0.03   \n",
       "1997-11-02                      9.60             1.32              0.04   \n",
       "1997-11-03                     12.76             1.52              0.04   \n",
       "1997-11-04                     13.58             0.96              0.03   \n",
       "1997-11-05                     13.58             1.25              0.04   \n",
       "...                              ...              ...               ...   \n",
       "2025-02-13                      4.29             0.32              0.03   \n",
       "2025-02-14                      2.88             0.15              0.01   \n",
       "2025-02-15                      3.71             0.31              0.02   \n",
       "2025-02-16                      4.08             0.28              0.02   \n",
       "2025-02-17                      3.83             0.22              0.02   \n",
       "\n",
       "Parameter   Outdoor Temperature  Ozone  PM10 Mass  PM2.5 Mass  \\\n",
       "Date                                                            \n",
       "1997-11-01                14.87   0.02       8.18        5.86   \n",
       "1997-11-02                14.87   0.00      16.23        8.31   \n",
       "1997-11-03                14.87   0.01      26.76       13.00   \n",
       "1997-11-04                14.87   0.01      22.00       11.07   \n",
       "1997-11-05                14.87   0.01      15.96        8.75   \n",
       "...                         ...    ...        ...         ...   \n",
       "2025-02-13               -13.86   0.02       0.00       20.95   \n",
       "2025-02-14               -19.08   0.03       0.00        8.26   \n",
       "2025-02-15               -19.28   0.02       0.00       14.51   \n",
       "2025-02-16               -20.58   0.02       0.00       24.31   \n",
       "2025-02-17               -24.31   0.02       0.00       20.59   \n",
       "\n",
       "Parameter   Relative Humidity  Sulphur Dioxide  Wind Direction  Wind Speed  \\\n",
       "Date                                                                         \n",
       "1997-11-01              52.50              NaN          245.00        7.82   \n",
       "1997-11-02              52.50              NaN          245.00        7.82   \n",
       "1997-11-03              52.50              NaN          245.00        7.82   \n",
       "1997-11-04              52.50              NaN          245.00        7.82   \n",
       "1997-11-05              52.50              NaN          245.00        7.82   \n",
       "...                       ...              ...             ...         ...   \n",
       "2025-02-13              95.38              NaN          149.45        5.80   \n",
       "2025-02-14              89.59              NaN           66.33        8.50   \n",
       "2025-02-15              77.02              NaN          248.33        4.98   \n",
       "2025-02-16              87.10              NaN          116.86        5.51   \n",
       "2025-02-17              75.24              NaN          134.04        7.02   \n",
       "\n",
       "Parameter     Year     Month        Day  Day of Month  Month Num  Is Weekend  \n",
       "Date                                                                          \n",
       "1997-11-01  1997.0  November   Saturday           1.0       11.0         1.0  \n",
       "1997-11-02  1997.0  November     Sunday           2.0       11.0         1.0  \n",
       "1997-11-03  1997.0  November     Monday           3.0       11.0         0.0  \n",
       "1997-11-04  1997.0  November    Tuesday           4.0       11.0         0.0  \n",
       "1997-11-05  1997.0  November  Wednesday           5.0       11.0         0.0  \n",
       "...            ...       ...        ...           ...        ...         ...  \n",
       "2025-02-13  2025.0  February   Thursday          13.0        2.0         0.0  \n",
       "2025-02-14  2025.0  February     Friday          14.0        2.0         0.0  \n",
       "2025-02-15  2025.0  February   Saturday          15.0        2.0         1.0  \n",
       "2025-02-16  2025.0  February     Sunday          16.0        2.0         1.0  \n",
       "2025-02-17  2025.0  February     Monday          17.0        2.0         0.0  \n",
       "\n",
       "[9971 rows x 17 columns]"
      ]
     },
     "execution_count": 78,
     "metadata": {},
     "output_type": "execute_result"
    }
   ],
   "source": [
    "calg_cent1997"
   ]
  },
  {
   "cell_type": "code",
   "execution_count": 79,
   "id": "106e7607-e1de-431d-9192-7b21de7bf138",
   "metadata": {},
   "outputs": [
    {
     "data": {
      "image/png": "[encoded data removed]",
      "text/plain": [
       "<Figure size 1400x800 with 1 Axes>"
      ]
     },
     "metadata": {},
     "output_type": "display_data"
    }
   ],
   "source": [
    "import matplotlib.pyplot as plt\n",
    "import seaborn as sns\n",
    "\n",
    "# List of features\n",
    "columns_to_plot = [\n",
    "    'Air Quality Health Index', 'Carbon Monoxide', 'Nitrogen Dioxide',\n",
    "    'Outdoor Temperature', 'Ozone', 'PM10 Mass', 'PM2.5 Mass',\n",
    "    'Relative Humidity', 'Sulphur Dioxide', 'Wind Speed'\n",
    "]\n",
    "\n",
    "plt.figure(figsize=(14, 8))\n",
    "\n",
    "sns.boxplot(data=calg_cent1997[columns_to_plot], orient='h', linewidth=1)\n",
    "\n",
    "plt.title('Boxplots for AQHI and Related Environmental Features', fontsize=14)\n",
    "plt.xlabel('Value')\n",
    "plt.ylabel('Features')\n",
    "plt.tight_layout()\n",
    "plt.grid(True, linestyle='--', alpha=0.5)\n",
    "\n",
    "plt.show()\n"
   ]
  },
  {
   "cell_type": "code",
   "execution_count": 80,
   "id": "a8e88be3-4464-4582-bb0e-533b63b8827d",
   "metadata": {},
   "outputs": [
    {
     "data": {
      "text/plain": [
       "15.79"
      ]
     },
     "execution_count": 80,
     "metadata": {},
     "output_type": "execute_result"
    }
   ],
   "source": [
    "# Finding outliers and replacing them with 90th Quartile. \n",
    "\n",
    "cols = ['Air Quality Health Index', 'Carbon Monoxide', 'Nitrogen Dioxide',\n",
    "       'Outdoor Temperature', 'Ozone', 'PM10 Mass', 'PM2.5 Mass',\n",
    "       'Relative Humidity', 'Sulphur Dioxide', 'Wind Speed']\n",
    "\n",
    "for col in calg_cent1997[cols]:\n",
    "    q90 = calg_cent1997[col].quantile(0.90)\n",
    "    calg_cent1997[col] = np.where(calg_cent1997[col] > q90, q90, calg_cent1997[col])\n",
    "    \n",
    "calg_cent1997['Air Quality Health Index'].max()"
   ]
  },
  {
   "cell_type": "code",
   "execution_count": 81,
   "id": "e5f82abd-bb66-40e2-90be-53f1af7ffe9a",
   "metadata": {},
   "outputs": [
    {
     "data": {
      "text/plain": [
       "15.79"
      ]
     },
     "execution_count": 81,
     "metadata": {},
     "output_type": "execute_result"
    }
   ],
   "source": [
    "calg_cent1997['Air Quality Health Index'].max()"
   ]
  },
  {
   "cell_type": "code",
   "execution_count": 82,
   "id": "4774c8ca-3b73-44bc-aa97-b8d169f46d28",
   "metadata": {},
   "outputs": [],
   "source": [
    "calg_cent1997 = calg_cent1997.dropna(how='all')"
   ]
  },
  {
   "cell_type": "code",
   "execution_count": 83,
   "id": "909a7f2e-2219-4d0c-a520-7afa63a4f007",
   "metadata": {},
   "outputs": [
    {
     "data": {
      "text/html": [
       "<div>\n",
       "<style scoped>\n",
       "    .dataframe tbody tr th:only-of-type {\n",
       "        vertical-align: middle;\n",
       "    }\n",
       "\n",
       "    .dataframe tbody tr th {\n",
       "        vertical-align: top;\n",
       "    }\n",
       "\n",
       "    .dataframe thead th {\n",
       "        text-align: right;\n",
       "    }\n",
       "</style>\n",
       "<table border=\"1\" class=\"dataframe\">\n",
       "  <thead>\n",
       "    <tr style=\"text-align: right;\">\n",
       "      <th>Parameter</th>\n",
       "      <th>Air Quality Health Index</th>\n",
       "      <th>Carbon Monoxide</th>\n",
       "      <th>Nitrogen Dioxide</th>\n",
       "      <th>Outdoor Temperature</th>\n",
       "      <th>Ozone</th>\n",
       "      <th>PM10 Mass</th>\n",
       "      <th>PM2.5 Mass</th>\n",
       "      <th>Relative Humidity</th>\n",
       "      <th>Sulphur Dioxide</th>\n",
       "      <th>Wind Direction</th>\n",
       "      <th>Wind Speed</th>\n",
       "      <th>Year</th>\n",
       "      <th>Month</th>\n",
       "      <th>Day</th>\n",
       "      <th>Day of Month</th>\n",
       "      <th>Month Num</th>\n",
       "      <th>Is Weekend</th>\n",
       "    </tr>\n",
       "    <tr>\n",
       "      <th>Date</th>\n",
       "      <th></th>\n",
       "      <th></th>\n",
       "      <th></th>\n",
       "      <th></th>\n",
       "      <th></th>\n",
       "      <th></th>\n",
       "      <th></th>\n",
       "      <th></th>\n",
       "      <th></th>\n",
       "      <th></th>\n",
       "      <th></th>\n",
       "      <th></th>\n",
       "      <th></th>\n",
       "      <th></th>\n",
       "      <th></th>\n",
       "      <th></th>\n",
       "      <th></th>\n",
       "    </tr>\n",
       "  </thead>\n",
       "  <tbody>\n",
       "  </tbody>\n",
       "</table>\n",
       "</div>"
      ],
      "text/plain": [
       "Empty DataFrame\n",
       "Columns: [Air Quality Health Index, Carbon Monoxide, Nitrogen Dioxide, Outdoor Temperature, Ozone, PM10 Mass, PM2.5 Mass, Relative Humidity, Sulphur Dioxide, Wind Direction, Wind Speed, Year, Month, Day, Day of Month, Month Num, Is Weekend]\n",
       "Index: []"
      ]
     },
     "execution_count": 83,
     "metadata": {},
     "output_type": "execute_result"
    }
   ],
   "source": [
    "calg_cent1997[calg_cent1997.isna().all(axis=1)]"
   ]
  },
  {
   "cell_type": "code",
   "execution_count": 84,
   "id": "2c66da1f-a4a6-4e03-86d5-91aa0f072f2f",
   "metadata": {},
   "outputs": [
    {
     "name": "stdout",
     "output_type": "stream",
     "text": [
      "0\n"
     ]
    }
   ],
   "source": [
    "print(calg_cent1997.index.duplicated().sum())"
   ]
  },
  {
   "cell_type": "markdown",
   "id": "70c0fe0d-6776-4c94-8ddd-e863be306f9b",
   "metadata": {},
   "source": [
    "### We ran a gridsearch for the SARIMAX model's hyperparameters. It ran over 750 iterations to find the best values. "
   ]
  },
  {
   "cell_type": "raw",
   "id": "ad96cb53-bfc3-4827-8708-98ffb974b318",
   "metadata": {},
   "source": [
    "from statsmodels.tsa.statespace.sarimax import SARIMAX\n",
    "import itertools\n",
    "import warnings\n",
    "import pandas as pd\n",
    "import numpy as np\n",
    "from sklearn.preprocessing import StandardScaler\n",
    "\n",
    "# Prepare data\n",
    "y = calg_cent1997['Air Quality Health Index']\n",
    "features = ['Carbon Monoxide', 'Nitrogen Dioxide', 'Outdoor Temperature', 'Ozone',\n",
    "            'PM10 Mass', 'PM2.5 Mass', 'Relative Humidity', 'Wind Speed', 'Month Num', 'Is Weekend']\n",
    "X = calg_cent1997[features]\n",
    "\n",
    "# Remove specific date range\n",
    "start = '2019-01-01'\n",
    "end = '2021-09-17'\n",
    "X = X.drop(X.loc[start:end].index, errors='ignore')\n",
    "y = y.drop(y.loc[start:end].index, errors='ignore')\n",
    "\n",
    "# Scaling and smoothing\n",
    "scaler = StandardScaler()\n",
    "X_scaled = pd.DataFrame(scaler.fit_transform(X), index=X.index, columns=X.columns)\n",
    "X = X_scaled.rolling(window=3, min_periods=1).mean()\n",
    "y = np.cbrt(y)\n",
    "\n",
    "# Train/Val/Test split\n",
    "total_len = len(y)\n",
    "train_size = int(total_len * 0.70)\n",
    "val_size = int(total_len * 0.15)\n",
    "\n",
    "y_train = y.iloc[:train_size]\n",
    "y_val = y.iloc[train_size:train_size + val_size]\n",
    "y_test = y.iloc[train_size + val_size:]\n",
    "\n",
    "X_train = X.iloc[:train_size]\n",
    "X_val = X.iloc[train_size:train_size + val_size]\n",
    "X_test = X.iloc[train_size + val_size:]\n",
    "\n",
    "# Merge train + val\n",
    "y_trainval = pd.concat([y_train, y_val])\n",
    "X_trainval = pd.concat([X_train, X_val])\n",
    "\n",
    "# Grid definition: testing pdq in [2, 3]\n",
    "orders = list(itertools.product([4], [1], [2]))\n",
    "seasonal_orders = (list(itertools.product([1,2,3], [1,2,3], [1,2,3], [7])))  # P, D, Q, S\n",
    "\n",
    "warnings.filterwarnings(\"ignore\")\n",
    "\n",
    "best_aic = float(\"inf\")\n",
    "best_order = None\n",
    "best_seasonal = None\n",
    "best_model = None\n",
    "\n",
    "print(\"Searching...\")\n",
    "\n",
    "for order in orders:\n",
    "    for seasonal_order in seasonal_orders:\n",
    "        try:\n",
    "            model = SARIMAX(\n",
    "                endog=y_trainval,\n",
    "                exog=X_trainval,\n",
    "                order=order,\n",
    "                seasonal_order=seasonal_order,\n",
    "                enforce_stationarity=False,\n",
    "                enforce_invertibility=False\n",
    "            )\n",
    "            result = model.fit(disp=False)\n",
    "            current_aic = result.aic\n",
    "\n",
    "            print(f\"Tested order={order}, seasonal={seasonal_order} → AIC={current_aic:.2f}\")\n",
    "\n",
    "            if current_aic < best_aic:\n",
    "                best_aic = current_aic\n",
    "                best_order = order\n",
    "                best_seasonal = seasonal_order\n",
    "                best_model = result\n",
    "\n",
    "        except Exception as e:\n",
    "            print(f\"Failed for order={order}, seasonal={seasonal_order}: {e}\")\n",
    "            continue\n",
    "\n",
    "# Output\n",
    "print(\"\\nGrid Search Complete\")\n",
    "print(f\"Best AIC: {best_aic:.2f}\")\n",
    "print(f\"Best order: {best_order}\")\n",
    "print(f\"Best seasonal_order: {best_seasonal}\")"
   ]
  },
  {
   "cell_type": "code",
   "execution_count": 86,
   "id": "0ce4c31e-c25f-458b-b040-7bfdc61130f9",
   "metadata": {},
   "outputs": [
    {
     "name": "stderr",
     "output_type": "stream",
     "text": [
      "C:\\Users\\saadu\\anaconda3\\Lib\\site-packages\\statsmodels\\tsa\\base\\tsa_model.py:473: ValueWarning: A date index has been provided, but it has no associated frequency information and so will be ignored when e.g. forecasting.\n",
      "  self._init_dates(dates, freq)\n",
      "C:\\Users\\saadu\\anaconda3\\Lib\\site-packages\\statsmodels\\tsa\\base\\tsa_model.py:473: ValueWarning: A date index has been provided, but it has no associated frequency information and so will be ignored when e.g. forecasting.\n",
      "  self._init_dates(dates, freq)\n",
      "C:\\Users\\saadu\\anaconda3\\Lib\\site-packages\\statsmodels\\base\\model.py:607: ConvergenceWarning: Maximum Likelihood optimization failed to converge. Check mle_retvals\n",
      "  warnings.warn(\"Maximum Likelihood optimization failed to \"\n"
     ]
    },
    {
     "name": "stdout",
     "output_type": "stream",
     "text": [
      "\n",
      " SARIMAX Feature Importance (by absolute coefficient size):\n",
      "            Feature  Coefficient\n",
      "              Ozone     0.094295\n",
      "         PM2.5 Mass     0.091983\n",
      "          PM10 Mass     0.039015\n",
      "   Nitrogen Dioxide     0.023628\n",
      "  Relative Humidity     0.023517\n",
      "    Carbon Monoxide     0.021437\n",
      "         Is Weekend     0.015080\n",
      "         Wind Speed    -0.008334\n",
      "          Month Num    -0.006507\n",
      "Outdoor Temperature     0.001162\n",
      "Validation MAE: 0.41348626421126344\n",
      "Validation RMSE: 0.6100158910163505\n"
     ]
    },
    {
     "name": "stderr",
     "output_type": "stream",
     "text": [
      "C:\\Users\\saadu\\anaconda3\\Lib\\site-packages\\statsmodels\\tsa\\base\\tsa_model.py:836: ValueWarning: No supported index is available. Prediction results will be given with an integer index beginning at `start`.\n",
      "  return get_prediction_index(\n",
      "C:\\Users\\saadu\\anaconda3\\Lib\\site-packages\\statsmodels\\tsa\\base\\tsa_model.py:836: FutureWarning: No supported index is available. In the next version, calling this method in a model without a supported index will result in an exception.\n",
      "  return get_prediction_index(\n"
     ]
    },
    {
     "data": {
      "image/png": "[encoded data removed]",
      "text/plain": [
       "<Figure size 1200x600 with 1 Axes>"
      ]
     },
     "metadata": {},
     "output_type": "display_data"
    }
   ],
   "source": [
    "import matplotlib.pyplot as plt\n",
    "from statsmodels.tsa.statespace.sarimax import SARIMAX\n",
    "from sklearn.metrics import mean_absolute_error, mean_squared_error\n",
    "from sklearn.preprocessing import StandardScaler, MinMaxScaler\n",
    "\n",
    "y = calg_cent1997['Air Quality Health Index']\n",
    "#y = y.ffill().bfill()\n",
    "\n",
    "features = ['Carbon Monoxide', 'Nitrogen Dioxide', 'Outdoor Temperature', 'Ozone',\n",
    "                 'PM10 Mass', 'PM2.5 Mass', 'Relative Humidity', 'Wind Speed', 'Month Num', 'Is Weekend']\n",
    "\n",
    "X = calg_cent1997[features]\n",
    "\n",
    "\n",
    "# Define the date range to remove\n",
    "start = '2019-01-01'\n",
    "end = '2021-09-17'\n",
    "\n",
    "# Drop the range from both target and features\n",
    "X = X.drop(X.loc[start:end].index, errors='ignore')\n",
    "y = y.drop(y.loc[start:end].index, errors='ignore')\n",
    "\n",
    "total_len = len(calg_cent1997)\n",
    "train_size = int(total_len * 0.70)\n",
    "val_size = int(total_len * 0.15)\n",
    "test_size = total_len - train_size - val_size\n",
    "\n",
    "\n",
    "#Scale the exogenous variables\n",
    "scaler = StandardScaler()\n",
    "X_scaled = pd.DataFrame(scaler.fit_transform(X), index=X.index, columns=X.columns)\n",
    "X = X_scaled\n",
    "X = X.rolling(window=3, min_periods=1).mean()\n",
    "\n",
    "y = np.cbrt(y)\n",
    "\n",
    "# Split data\n",
    "y_train = y.iloc[:train_size]\n",
    "y_val = y.iloc[train_size:train_size + val_size]\n",
    "y_test = y.iloc[train_size + val_size:]\n",
    "\n",
    "X_train = X.iloc[:train_size]\n",
    "X_val = X.iloc[train_size:train_size + val_size]\n",
    "X_test = X.iloc[train_size + val_size:]\n",
    "\n",
    "model = SARIMAX(\n",
    "    endog=y_train,\n",
    "    exog=X_train,\n",
    "    order=(4, 1, 2),\n",
    "    seasonal_order=(1, 0, 1, 7),\n",
    "    enforce_stationarity=True,\n",
    "    enforce_invertibility=False\n",
    ")\n",
    "result = model.fit()\n",
    "\n",
    "exog_names = result.model.exog_names \n",
    "\n",
    "# Extract the coefficients\n",
    "exog_coefs = [result.params[name] for name in exog_names]\n",
    "\n",
    "feature_importance_val = pd.DataFrame({\n",
    "    'Feature': exog_names,\n",
    "    'Coefficient': exog_coefs,\n",
    "    'Abs_Coefficient': np.abs(exog_coefs)\n",
    "}).sort_values(by='Abs_Coefficient', ascending=False)\n",
    "\n",
    "print(\"\\n SARIMAX Feature Importance (by absolute coefficient size):\")\n",
    "print(feature_importance_val[['Feature', 'Coefficient']].to_string(index=False))\n",
    "\n",
    "# 2. Predict on validation\n",
    "val_pred = result.get_prediction(start=len(y_train), end=len(y_train) + len(y_val) - 1, exog=X_val)\n",
    "val_pred_log = val_pred.predicted_mean\n",
    "conf_int_log_val = val_pred.conf_int()\n",
    "\n",
    "val_pred = val_pred_log ** 3\n",
    "val_test_actual = y_val ** 3\n",
    "\n",
    "# Inverse cube root for confidence intervals\n",
    "conf_int_val = conf_int_log_val.copy()\n",
    "conf_int_val.iloc[:, 0] = conf_int_val.iloc[:, 0] ** 3\n",
    "conf_int_val.iloc[:, 1] = conf_int_val.iloc[:, 1] ** 3\n",
    "\n",
    "val_pred.index = val_test_actual.index\n",
    "\n",
    "conf_int_val.index = val_test_actual.index\n",
    "\n",
    "val_mae = mean_absolute_error(val_test_actual, val_pred)\n",
    "val_rmse = np.sqrt(mean_squared_error(val_test_actual, val_pred))\n",
    "print(\"Validation MAE:\", val_mae)\n",
    "print(\"Validation RMSE:\", val_rmse)\n",
    "\n",
    "plt.figure(figsize=(12, 6))\n",
    "plt.plot(val_test_actual, label='Actual AQHI')\n",
    "plt.plot(val_pred, label='Predicted AQHI', linestyle='--')\n",
    "plt.fill_between(val_pred.index,\n",
    "                 conf_int_val.iloc[:, 0],\n",
    "                 conf_int_val.iloc[:, 1], color='lightgray', alpha=0.5)\n",
    "plt.title(\"SARIMAX Prediction on Test Set\")\n",
    "plt.xlabel(\"Date\")\n",
    "plt.ylabel(\"AQHI\")\n",
    "plt.legend()\n",
    "plt.grid(True)\n",
    "plt.tight_layout()\n",
    "plt.show()\n",
    "\n",
    "\n"
   ]
  },
  {
   "cell_type": "code",
   "execution_count": 87,
   "id": "12560d13-f375-418d-a7b5-e5b9534e802f",
   "metadata": {},
   "outputs": [
    {
     "name": "stderr",
     "output_type": "stream",
     "text": [
      "C:\\Users\\saadu\\anaconda3\\Lib\\site-packages\\statsmodels\\tsa\\base\\tsa_model.py:473: ValueWarning: A date index has been provided, but it has no associated frequency information and so will be ignored when e.g. forecasting.\n",
      "  self._init_dates(dates, freq)\n",
      "C:\\Users\\saadu\\anaconda3\\Lib\\site-packages\\statsmodels\\tsa\\base\\tsa_model.py:473: ValueWarning: A date index has been provided, but it has no associated frequency information and so will be ignored when e.g. forecasting.\n",
      "  self._init_dates(dates, freq)\n",
      "C:\\Users\\saadu\\anaconda3\\Lib\\site-packages\\statsmodels\\base\\model.py:607: ConvergenceWarning: Maximum Likelihood optimization failed to converge. Check mle_retvals\n",
      "  warnings.warn(\"Maximum Likelihood optimization failed to \"\n"
     ]
    },
    {
     "name": "stdout",
     "output_type": "stream",
     "text": [
      "\n",
      " SARIMAX Feature Importance (by absolute coefficient size):\n",
      "            Feature  Coefficient\n",
      "              Ozone     0.086593\n",
      "         PM2.5 Mass     0.080431\n",
      "          PM10 Mass     0.040877\n",
      "   Nitrogen Dioxide     0.027515\n",
      "    Carbon Monoxide     0.026395\n",
      "  Relative Humidity     0.014459\n",
      "         Is Weekend     0.013603\n",
      "         Wind Speed    -0.010756\n",
      "          Month Num    -0.004986\n",
      "Outdoor Temperature    -0.003297\n",
      "\n",
      "Test MAE: 0.55\n",
      "Test RMSE: 0.81\n"
     ]
    },
    {
     "name": "stderr",
     "output_type": "stream",
     "text": [
      "C:\\Users\\saadu\\anaconda3\\Lib\\site-packages\\statsmodels\\tsa\\base\\tsa_model.py:836: ValueWarning: No supported index is available. Prediction results will be given with an integer index beginning at `start`.\n",
      "  return get_prediction_index(\n",
      "C:\\Users\\saadu\\anaconda3\\Lib\\site-packages\\statsmodels\\tsa\\base\\tsa_model.py:836: FutureWarning: No supported index is available. In the next version, calling this method in a model without a supported index will result in an exception.\n",
      "  return get_prediction_index(\n"
     ]
    },
    {
     "data": {
      "image/png": "[encoded data removed]",
      "text/plain": [
       "<Figure size 1200x600 with 1 Axes>"
      ]
     },
     "metadata": {},
     "output_type": "display_data"
    },
    {
     "name": "stdout",
     "output_type": "stream",
     "text": [
      "\n",
      "--- AQHI Prediction vs Actual (Test Set) ---\n",
      "            Actual AQHI  Predicted AQHI Risk Level\n",
      "Date                                              \n",
      "2018-09-17         1.57            1.42   Low risk\n",
      "2018-09-18         2.02            1.56   Low risk\n",
      "2018-09-19         2.07            1.80   Low risk\n",
      "2018-09-20         2.11            1.97   Low risk\n",
      "2018-09-21         1.50            1.81   Low risk\n",
      "2018-09-22         1.64            1.58   Low risk\n",
      "2018-09-23         1.53            1.49   Low risk\n",
      "2018-09-24         2.03            1.61   Low risk\n",
      "2018-09-25         2.20            1.76   Low risk\n",
      "2018-09-26         2.30            1.84   Low risk\n",
      "2018-09-27         2.02            1.83   Low risk\n",
      "2018-09-28         2.05            1.81   Low risk\n",
      "2018-09-29         2.08            1.80   Low risk\n",
      "2018-09-30         2.16            1.84   Low risk\n",
      "2018-10-01         1.81            1.84   Low risk\n",
      "2018-10-02         2.03            1.85   Low risk\n",
      "2018-10-03         2.18            1.97   Low risk\n",
      "2018-10-04         2.32            2.18   Low risk\n",
      "2018-10-05         2.55            2.30   Low risk\n",
      "2018-10-06         2.63            2.54   Low risk\n",
      "2018-10-07         2.32            2.66   Low risk\n",
      "2018-10-08         1.86            2.38   Low risk\n",
      "2018-10-09         1.72            1.77   Low risk\n",
      "2018-10-10         1.84            1.50   Low risk\n",
      "2018-10-11         2.01            1.57   Low risk\n",
      "2018-10-12         2.22            1.76   Low risk\n",
      "2018-10-13         2.01            1.85   Low risk\n",
      "2018-10-14         2.19            1.92   Low risk\n",
      "2018-10-15         2.37            1.95   Low risk\n",
      "2018-10-16         2.73            2.17   Low risk\n",
      "2018-10-17         2.56            2.36   Low risk\n",
      "2018-10-18         2.71            2.64   Low risk\n",
      "2018-10-19         2.42            2.50   Low risk\n",
      "2018-10-20         2.59            2.48   Low risk\n",
      "2018-10-21         2.39            2.38   Low risk\n",
      "2018-10-22         2.53            2.48   Low risk\n",
      "2018-10-23         2.65            2.62   Low risk\n",
      "2018-10-24         2.55            2.68   Low risk\n",
      "2018-10-25         2.63            2.48   Low risk\n",
      "2018-10-26         2.40            2.23   Low risk\n"
     ]
    }
   ],
   "source": [
    "# Combine train and val for final training before test prediction\n",
    "y_trainval = pd.concat([y_train, y_val])\n",
    "X_trainval = pd.concat([X_train, X_val])\n",
    "\n",
    "model = SARIMAX(\n",
    "    endog=y_trainval,\n",
    "    exog=X_trainval,\n",
    "    order=(4, 1, 2), \n",
    "    seasonal_order=(1, 0, 1, 7),\n",
    "    enforce_stationarity=True,\n",
    "    enforce_invertibility=False\n",
    ")\n",
    "results = model.fit(disp=False)\n",
    "\n",
    "exog_names = results.model.exog_names \n",
    "\n",
    "exog_coefs = [results.params[name] for name in exog_names]\n",
    "\n",
    "feature_importance_df = pd.DataFrame({\n",
    "    'Feature': exog_names,\n",
    "    'Coefficient': exog_coefs,\n",
    "    'Abs_Coefficient': np.abs(exog_coefs)\n",
    "}).sort_values(by='Abs_Coefficient', ascending=False)\n",
    "\n",
    "print(\"\\n SARIMAX Feature Importance (by absolute coefficient size):\")\n",
    "print(feature_importance_df[['Feature', 'Coefficient']].to_string(index=False))\n",
    "\n",
    "test_start_idx = len(y_trainval)\n",
    "test_end_idx = test_start_idx + len(y_test) - 1\n",
    "\n",
    "forecast = results.get_prediction(start=test_start_idx, end=test_end_idx, exog=X_test, dynamic=False)\n",
    "y_pred_log = forecast.predicted_mean\n",
    "conf_int_log = forecast.conf_int()\n",
    "\n",
    "y_pred = y_pred_log ** 3\n",
    "y_test_actual = y_test ** 3\n",
    "\n",
    "# Inverse cube root for confidence intervals\n",
    "conf_int = conf_int_log.copy()\n",
    "conf_int.iloc[:, 0] = conf_int.iloc[:, 0] ** 3\n",
    "conf_int.iloc[:, 1] = conf_int.iloc[:, 1] ** 3\n",
    "\n",
    "y_pred.index = y_test.index\n",
    "\n",
    "conf_int.index = y_test.index\n",
    "\n",
    "mae = mean_absolute_error(y_test_actual, y_pred)\n",
    "rmse = np.sqrt(mean_squared_error(y_test_actual, y_pred))\n",
    "\n",
    "print(f\"\\nTest MAE: {mae:.2f}\")\n",
    "print(f\"Test RMSE: {rmse:.2f}\")\n",
    "\n",
    "plt.figure(figsize=(12, 6))\n",
    "plt.plot(y_test_actual, label='Actual AQHI')\n",
    "plt.plot(y_pred, label='Predicted AQHI', linestyle='--')\n",
    "plt.fill_between(y_pred.index,\n",
    "                 conf_int.iloc[:, 0],\n",
    "                 conf_int.iloc[:, 1], color='lightgray', alpha=0.5)\n",
    "plt.title(\"SARIMAX Prediction on Test Set\")\n",
    "plt.xlabel(\"Date\")\n",
    "plt.ylabel(\"AQHI\")\n",
    "plt.legend()\n",
    "plt.grid(True)\n",
    "plt.tight_layout()\n",
    "plt.show()\n",
    "\n",
    "# Risk level classification\n",
    "def classify_aqhi_risk(aqhi):\n",
    "    if aqhi <= 4:\n",
    "        return \"Low risk\"\n",
    "    elif 4 <= aqhi <= 6:\n",
    "        return \"Moderate risk\"\n",
    "    else:\n",
    "        return \"High risk\"\n",
    "\n",
    "risk_levels = y_pred.apply(classify_aqhi_risk)\n",
    "\n",
    "# Results DataFrame\n",
    "results_df = pd.DataFrame({\n",
    "    'Actual AQHI': y_test_actual,\n",
    "    'Predicted AQHI': y_pred.round(2),\n",
    "    'Risk Level': risk_levels\n",
    "})\n",
    "\n",
    "print(\"\\n--- AQHI Prediction vs Actual (Test Set) ---\")\n",
    "print(results_df.head(40))"
   ]
  },
  {
   "cell_type": "code",
   "execution_count": 163,
   "id": "7e34e4b9-07db-4a9e-9747-dcb897345d8b",
   "metadata": {},
   "outputs": [],
   "source": [
    "results_df['Difference'] = results_df['Predicted AQHI'] - results_df['Actual AQHI']"
   ]
  },
  {
   "cell_type": "code",
   "execution_count": 164,
   "id": "26a0f7c8-3f0e-47a8-8fba-98639f9a10de",
   "metadata": {},
   "outputs": [
    {
     "data": {
      "text/html": [
       "<div>\n",
       "<style scoped>\n",
       "    .dataframe tbody tr th:only-of-type {\n",
       "        vertical-align: middle;\n",
       "    }\n",
       "\n",
       "    .dataframe tbody tr th {\n",
       "        vertical-align: top;\n",
       "    }\n",
       "\n",
       "    .dataframe thead th {\n",
       "        text-align: right;\n",
       "    }\n",
       "</style>\n",
       "<table border=\"1\" class=\"dataframe\">\n",
       "  <thead>\n",
       "    <tr style=\"text-align: right;\">\n",
       "      <th></th>\n",
       "      <th>Actual AQHI</th>\n",
       "      <th>Predicted AQHI</th>\n",
       "      <th>Risk Level</th>\n",
       "      <th>Difference</th>\n",
       "    </tr>\n",
       "    <tr>\n",
       "      <th>Date</th>\n",
       "      <th></th>\n",
       "      <th></th>\n",
       "      <th></th>\n",
       "      <th></th>\n",
       "    </tr>\n",
       "  </thead>\n",
       "  <tbody>\n",
       "    <tr>\n",
       "      <th>2022-09-03</th>\n",
       "      <td>4.43</td>\n",
       "      <td>3.43</td>\n",
       "      <td>Low risk</td>\n",
       "      <td>-1.00</td>\n",
       "    </tr>\n",
       "    <tr>\n",
       "      <th>2022-09-05</th>\n",
       "      <td>3.17</td>\n",
       "      <td>4.05</td>\n",
       "      <td>Moderate risk</td>\n",
       "      <td>0.88</td>\n",
       "    </tr>\n",
       "    <tr>\n",
       "      <th>2022-09-10</th>\n",
       "      <td>4.48</td>\n",
       "      <td>2.48</td>\n",
       "      <td>Low risk</td>\n",
       "      <td>-2.00</td>\n",
       "    </tr>\n",
       "    <tr>\n",
       "      <th>2022-09-11</th>\n",
       "      <td>4.70</td>\n",
       "      <td>3.18</td>\n",
       "      <td>Low risk</td>\n",
       "      <td>-1.52</td>\n",
       "    </tr>\n",
       "    <tr>\n",
       "      <th>2022-09-30</th>\n",
       "      <td>2.00</td>\n",
       "      <td>2.85</td>\n",
       "      <td>Low risk</td>\n",
       "      <td>0.85</td>\n",
       "    </tr>\n",
       "    <tr>\n",
       "      <th>...</th>\n",
       "      <td>...</td>\n",
       "      <td>...</td>\n",
       "      <td>...</td>\n",
       "      <td>...</td>\n",
       "    </tr>\n",
       "    <tr>\n",
       "      <th>2025-01-04</th>\n",
       "      <td>2.21</td>\n",
       "      <td>3.23</td>\n",
       "      <td>Low risk</td>\n",
       "      <td>1.02</td>\n",
       "    </tr>\n",
       "    <tr>\n",
       "      <th>2025-02-02</th>\n",
       "      <td>2.00</td>\n",
       "      <td>3.03</td>\n",
       "      <td>Low risk</td>\n",
       "      <td>1.03</td>\n",
       "    </tr>\n",
       "    <tr>\n",
       "      <th>2025-02-06</th>\n",
       "      <td>3.92</td>\n",
       "      <td>2.83</td>\n",
       "      <td>Low risk</td>\n",
       "      <td>-1.09</td>\n",
       "    </tr>\n",
       "    <tr>\n",
       "      <th>2025-02-07</th>\n",
       "      <td>4.29</td>\n",
       "      <td>3.31</td>\n",
       "      <td>Low risk</td>\n",
       "      <td>-0.98</td>\n",
       "    </tr>\n",
       "    <tr>\n",
       "      <th>2025-02-14</th>\n",
       "      <td>2.88</td>\n",
       "      <td>3.88</td>\n",
       "      <td>Low risk</td>\n",
       "      <td>1.00</td>\n",
       "    </tr>\n",
       "  </tbody>\n",
       "</table>\n",
       "<p>148 rows × 4 columns</p>\n",
       "</div>"
      ],
      "text/plain": [
       "            Actual AQHI  Predicted AQHI     Risk Level  Difference\n",
       "Date                                                              \n",
       "2022-09-03         4.43            3.43       Low risk       -1.00\n",
       "2022-09-05         3.17            4.05  Moderate risk        0.88\n",
       "2022-09-10         4.48            2.48       Low risk       -2.00\n",
       "2022-09-11         4.70            3.18       Low risk       -1.52\n",
       "2022-09-30         2.00            2.85       Low risk        0.85\n",
       "...                 ...             ...            ...         ...\n",
       "2025-01-04         2.21            3.23       Low risk        1.02\n",
       "2025-02-02         2.00            3.03       Low risk        1.03\n",
       "2025-02-06         3.92            2.83       Low risk       -1.09\n",
       "2025-02-07         4.29            3.31       Low risk       -0.98\n",
       "2025-02-14         2.88            3.88       Low risk        1.00\n",
       "\n",
       "[148 rows x 4 columns]"
      ]
     },
     "execution_count": 164,
     "metadata": {},
     "output_type": "execute_result"
    }
   ],
   "source": [
    "results_df[(results_df['Difference'] > 0.8) | (results_df['Difference'] < -0.8)]"
   ]
  },
  {
   "cell_type": "markdown",
   "id": "ebd8b6e9-9313-4833-ad35-230132017921",
   "metadata": {},
   "source": [
    "### Save the model and create gui"
   ]
  },
  {
   "cell_type": "code",
   "execution_count": 91,
   "id": "fd61ac81-3254-4876-a011-b432ee64c6f7",
   "metadata": {},
   "outputs": [
    {
     "data": {
      "text/plain": [
       "['E:\\\\Projects\\\\Data\\\\Air quality\\\\Models\\\\x_scaler.pkl']"
      ]
     },
     "execution_count": 91,
     "metadata": {},
     "output_type": "execute_result"
    }
   ],
   "source": [
    "import joblib\n",
    "import os\n",
    "\n",
    "save_path = r\"E:\\Projects\\Data\\Air quality\\Models\"\n",
    "\n",
    "os.makedirs(save_path, exist_ok=True)\n",
    "\n",
    "joblib.dump(results, os.path.join(save_path, \"sarimax_model.pkl\"))\n",
    "\n",
    "joblib.dump(scaler, os.path.join(save_path, \"x_scaler.pkl\"))\n",
    "\n"
   ]
  },
  {
   "cell_type": "code",
   "execution_count": null,
   "id": "3687f162-d627-4853-a222-91b0587ee4f3",
   "metadata": {},
   "outputs": [],
   "source": []
  }
 ],
 "metadata": {
  "kernelspec": {
   "display_name": "Python [conda env:base] *",
   "language": "python",
   "name": "conda-base-py"
  },
  "language_info": {
   "codemirror_mode": {
    "name": "ipython",
    "version": 3
   },
   "file_extension": ".py",
   "mimetype": "text/x-python",
   "name": "python",
   "nbconvert_exporter": "python",
   "pygments_lexer": "ipython3",
   "version": "3.12.7"
  }
 },
 "nbformat": 4,
 "nbformat_minor": 5
}
